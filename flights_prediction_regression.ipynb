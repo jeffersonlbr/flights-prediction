{
 "cells": [
  {
   "cell_type": "markdown",
   "id": "5cb8f67e-571a-4533-82ce-b4e1159fc81e",
   "metadata": {},
   "source": [
    "### Análise e Predição de atraso de voos dos Estados Unidos (2009-2018)"
   ]
  },
  {
   "cell_type": "markdown",
   "id": "3df1b616-904f-44be-9dc8-ec8e8a053ee0",
   "metadata": {
    "jp-MarkdownHeadingCollapsed": true,
    "tags": [],
    "toc-hr-collapsed": true
   },
   "source": [
    "#### Objetivo: Predizer se um voo tem chance de ser cancelado ou não\n",
    "##### ML: Regressão Linear e Floresta Aleatória\n",
    "\n",
    "- Cada linha do conjunto de dados representa voos específicos daquele ano. As colunas contêm informações sobre o voo, companhia aérea, data do voo, atraso de partida, atraso de chegada, e outros.\n",
    "- Se cancelado (1), todos os horarios de decolagem e chegada serão 'null'\n",
    "- Filtrar `CANCELLED` para uma analise exploratoria\n",
    "- `DEP_DELAY`: Se negativo, decolou antecipadamente\n",
    "- `ARR_DELAY`: Se negativo, chegou antecipadamente\n",
    "- *Se os dois forem negativos, não houve atraso*\n",
    "- *Variavel explicada: `ARR_DELAY` + `DEP_DELAY` = Se negativo ou 0, é 'Not delayed'. Se positivo, 'Delayed'. Isso quer dizer que os atrasos podem ser compensados.\n",
    "- *Criar nova coluna pra definir se houve atraso ou não. Vamos nomear como `DELAY_RESULT`*\n",
    "\n",
    "#### Tecnicas utilizadas\n",
    "- Spark dataframe, RDDs, Spark ML"
   ]
  },
  {
   "cell_type": "markdown",
   "id": "1a0cd4f4-011d-4c01-a711-785703fe1a98",
   "metadata": {},
   "source": [
    "<br>"
   ]
  },
  {
   "cell_type": "markdown",
   "id": "ae13f2d3-e003-45da-a8b1-279d8dbbb185",
   "metadata": {},
   "source": [
    "> #### Melhorias possiveis\n",
    "- Check posteriormente relação entre distancia e atraso: se a media de distancia entre aeroporto A para aeroporto B é X, pouca chance de atrasar. Se distancia é 30% maior que a media, a chance de atrasar é maior;\n",
    "- Se alta demanda de voos em determinado periodo é muito maior que a média, a chance de atrasar é maior;\n",
    "- Rodar modelo com mais variaveis (\"OP_CARRIER_FL_NUM\" , \"DISTANCE\", \"ORIGIN\", \"DEST\") //// Numero voo, distancia total percorrida, origem do voo, destino do voo;\n",
    "- Calcular média de atraso em minutos ou horas por mês e operadora (O que é um grande atraso? Definir corte (até 30 min, até 60 min)"
   ]
  },
  {
   "cell_type": "markdown",
   "id": "3b6287b2-49c1-441c-adb4-7538dabff039",
   "metadata": {},
   "source": [
    "<br>"
   ]
  },
  {
   "cell_type": "markdown",
   "id": "8a3e98f2-72d9-4b58-a42b-7c9a97a1e13a",
   "metadata": {
    "tags": []
   },
   "source": [
    "## Carregando Spark e dados"
   ]
  },
  {
   "cell_type": "markdown",
   "id": "eed20305-5491-43c7-b621-79363a40ff32",
   "metadata": {
    "tags": []
   },
   "source": [
    "#### Spark Dataframe para leitura de dados do df de `2009`"
   ]
  },
  {
   "cell_type": "code",
   "execution_count": 1,
   "id": "48fde411-154a-4a95-add8-617b6851ed71",
   "metadata": {},
   "outputs": [],
   "source": [
    "# Criar a sessao do Spark\n",
    "from pyspark.sql import SparkSession \n",
    "spark = SparkSession \\\n",
    "            .builder \\\n",
    "            .master(\"local[*]\") \\\n",
    "            .appName(\"SparkML\") \\\n",
    "            .getOrCreate()"
   ]
  },
  {
   "cell_type": "code",
   "execution_count": 2,
   "id": "0cd8bccc-0d65-4b68-8297-420800a12d5b",
   "metadata": {},
   "outputs": [],
   "source": [
    "import pandas as pd\n",
    "import seaborn as sns\n",
    "from matplotlib import pyplot as plt\n",
    "\n",
    "\n",
    "import pyspark.sql.functions as f\n",
    "from pyspark.sql.types import StringType\n",
    "from pyspark.ml.feature import VectorAssembler, StandardScaler #suporte para dados esparsos\n",
    "from pyspark.ml.feature import OneHotEncoder, StringIndexer\n",
    "from pyspark.ml.regression import LinearRegression #rodar o modelo de regressão linear\n",
    "from pyspark.ml import Pipeline\n",
    "from pyspark.ml.tuning import CrossValidator, ParamGridBuilder\n",
    "from pyspark.ml.evaluation import RegressionEvaluator\n",
    "import warnings\n",
    "warnings.filterwarnings('ignore')\n"
   ]
  },
  {
   "cell_type": "code",
   "execution_count": 3,
   "id": "04159c9b-a406-478b-891f-0132faf4ce7b",
   "metadata": {},
   "outputs": [],
   "source": [
    "from pyspark.sql import SparkSession\n",
    "from pyspark.sql.types import StructType, StructField, StringType, IntegerType, DoubleType, TimestampType\n",
    "\n",
    "spark = SparkSession.builder.getOrCreate()\n",
    "\n",
    "schema = StructType([\n",
    "    StructField(\"FL_DATE\", TimestampType(), nullable=True),\n",
    "    StructField(\"OP_CARRIER\", StringType(), nullable=True),\n",
    "    StructField(\"OP_CARRIER_FL_NUM\", StringType(), nullable=True),\n",
    "    StructField(\"ORIGIN\", StringType(), nullable=True),\n",
    "    StructField(\"DEST\", StringType(), nullable=True),\n",
    "    StructField(\"CRS_DEP_TIME\", DoubleType(), nullable=True),\n",
    "    StructField(\"DEP_TIME\", DoubleType(), nullable=True),\n",
    "    StructField(\"DEP_DELAY\", DoubleType(), nullable=True),\n",
    "    StructField(\"TAXI_OUT\", DoubleType(), nullable=True),\n",
    "    StructField(\"WHEELS_OFF\", DoubleType(), nullable=True),\n",
    "    StructField(\"WHEELS_ON\", DoubleType(), nullable=True),\n",
    "    StructField(\"TAXI_IN\", DoubleType(), nullable=True),\n",
    "    StructField(\"CRS_ARR_TIME\", DoubleType(), nullable=True),\n",
    "    StructField(\"ARR_TIME\", DoubleType(), nullable=True),\n",
    "    StructField(\"ARR_DELAY\", DoubleType(), nullable=True),\n",
    "    StructField(\"CANCELLED\", DoubleType(), nullable=True),\n",
    "    StructField(\"CANCELLATION_CODE\", StringType(), nullable=True),\n",
    "    StructField(\"DIVERTED\", DoubleType(), nullable=True),\n",
    "    StructField(\"CRS_ELAPSED_TIME\", DoubleType(), nullable=True),\n",
    "    StructField(\"ACTUAL_ELAPSED_TIME\", DoubleType(), nullable=True),\n",
    "    StructField(\"AIR_TIME\", DoubleType(), nullable=True),\n",
    "    StructField(\"DISTANCE\", DoubleType(), nullable=True),\n",
    "    StructField(\"CARRIER_DELAY\", DoubleType(), nullable=True),\n",
    "    StructField(\"WEATHER_DELAY\", DoubleType(), nullable=True),\n",
    "    StructField(\"NAS_DELAY\", DoubleType(), nullable=True),\n",
    "    StructField(\"SECURITY_DELAY\", DoubleType(), nullable=True),\n",
    "    StructField(\"LATE_AIRCRAFT_DELAY\", DoubleType(), nullable=True),\n",
    "    StructField(\"Unnamed: 27\", StringType(), nullable=True)\n",
    "])\n"
   ]
  },
  {
   "cell_type": "code",
   "execution_count": 4,
   "id": "9a73faf4-8183-4ebd-a388-bf8d6db8d198",
   "metadata": {},
   "outputs": [],
   "source": [
    "df = spark.read.csv('2009.csv',\n",
    "                      header=True,\n",
    "                      inferSchema=False, schema=schema)"
   ]
  },
  {
   "cell_type": "code",
   "execution_count": 5,
   "id": "10a8260b-9ce2-4125-8cbc-80e8f53f5b6f",
   "metadata": {},
   "outputs": [
    {
     "name": "stdout",
     "output_type": "stream",
     "text": [
      "root\n",
      " |-- FL_DATE: timestamp (nullable = true)\n",
      " |-- OP_CARRIER: string (nullable = true)\n",
      " |-- OP_CARRIER_FL_NUM: string (nullable = true)\n",
      " |-- ORIGIN: string (nullable = true)\n",
      " |-- DEST: string (nullable = true)\n",
      " |-- CRS_DEP_TIME: double (nullable = true)\n",
      " |-- DEP_TIME: double (nullable = true)\n",
      " |-- DEP_DELAY: double (nullable = true)\n",
      " |-- TAXI_OUT: double (nullable = true)\n",
      " |-- WHEELS_OFF: double (nullable = true)\n",
      " |-- WHEELS_ON: double (nullable = true)\n",
      " |-- TAXI_IN: double (nullable = true)\n",
      " |-- CRS_ARR_TIME: double (nullable = true)\n",
      " |-- ARR_TIME: double (nullable = true)\n",
      " |-- ARR_DELAY: double (nullable = true)\n",
      " |-- CANCELLED: double (nullable = true)\n",
      " |-- CANCELLATION_CODE: string (nullable = true)\n",
      " |-- DIVERTED: double (nullable = true)\n",
      " |-- CRS_ELAPSED_TIME: double (nullable = true)\n",
      " |-- ACTUAL_ELAPSED_TIME: double (nullable = true)\n",
      " |-- AIR_TIME: double (nullable = true)\n",
      " |-- DISTANCE: double (nullable = true)\n",
      " |-- CARRIER_DELAY: double (nullable = true)\n",
      " |-- WEATHER_DELAY: double (nullable = true)\n",
      " |-- NAS_DELAY: double (nullable = true)\n",
      " |-- SECURITY_DELAY: double (nullable = true)\n",
      " |-- LATE_AIRCRAFT_DELAY: double (nullable = true)\n",
      " |-- Unnamed: 27: string (nullable = true)\n",
      "\n"
     ]
    }
   ],
   "source": [
    "# Print the schema\n",
    "df.printSchema()"
   ]
  },
  {
   "cell_type": "code",
   "execution_count": 6,
   "id": "4f7cc33f-f601-493d-a4eb-d061951f87af",
   "metadata": {},
   "outputs": [
    {
     "data": {
      "text/plain": [
       "StructType([StructField('FL_DATE', TimestampType(), True), StructField('OP_CARRIER', StringType(), True), StructField('OP_CARRIER_FL_NUM', StringType(), True), StructField('ORIGIN', StringType(), True), StructField('DEST', StringType(), True), StructField('CRS_DEP_TIME', DoubleType(), True), StructField('DEP_TIME', DoubleType(), True), StructField('DEP_DELAY', DoubleType(), True), StructField('TAXI_OUT', DoubleType(), True), StructField('WHEELS_OFF', DoubleType(), True), StructField('WHEELS_ON', DoubleType(), True), StructField('TAXI_IN', DoubleType(), True), StructField('CRS_ARR_TIME', DoubleType(), True), StructField('ARR_TIME', DoubleType(), True), StructField('ARR_DELAY', DoubleType(), True), StructField('CANCELLED', DoubleType(), True), StructField('CANCELLATION_CODE', StringType(), True), StructField('DIVERTED', DoubleType(), True), StructField('CRS_ELAPSED_TIME', DoubleType(), True), StructField('ACTUAL_ELAPSED_TIME', DoubleType(), True), StructField('AIR_TIME', DoubleType(), True), StructField('DISTANCE', DoubleType(), True), StructField('CARRIER_DELAY', DoubleType(), True), StructField('WEATHER_DELAY', DoubleType(), True), StructField('NAS_DELAY', DoubleType(), True), StructField('SECURITY_DELAY', DoubleType(), True), StructField('LATE_AIRCRAFT_DELAY', DoubleType(), True), StructField('Unnamed: 27', StringType(), True)])"
      ]
     },
     "execution_count": 6,
     "metadata": {},
     "output_type": "execute_result"
    }
   ],
   "source": [
    "df.schema"
   ]
  },
  {
   "cell_type": "markdown",
   "id": "399ead0d-30d1-4a31-9b0d-346f4c5af9f6",
   "metadata": {},
   "source": [
    "<br>"
   ]
  },
  {
   "cell_type": "markdown",
   "id": "3bcb9493-e3d2-4fb7-82e2-2847e870534b",
   "metadata": {
    "tags": []
   },
   "source": [
    "## Missings values"
   ]
  },
  {
   "cell_type": "code",
   "execution_count": 7,
   "id": "801bfc6a-db42-49cd-98c0-5a7bcf9ca2d3",
   "metadata": {},
   "outputs": [
    {
     "data": {
      "text/plain": [
       "6429338"
      ]
     },
     "execution_count": 7,
     "metadata": {},
     "output_type": "execute_result"
    }
   ],
   "source": [
    "from pyspark.sql.functions import col, sum\n",
    "\n",
    "# Calcula o total de linhas no DataFrame\n",
    "total_rows = df.count()\n",
    "total_rows"
   ]
  },
  {
   "cell_type": "code",
   "execution_count": 8,
   "id": "1681ff30-32ec-40e6-907b-7742452af250",
   "metadata": {},
   "outputs": [
    {
     "name": "stdout",
     "output_type": "stream",
     "text": [
      "+-------------------+--------------+------------------+\n",
      "|             Column|Missing Values|        Percentage|\n",
      "+-------------------+--------------+------------------+\n",
      "|        Unnamed: 27|       6429338|             100.0|\n",
      "|  CANCELLATION_CODE|       6342300| 98.64623698427427|\n",
      "|     SECURITY_DELAY|       5258837|  81.7943775859972|\n",
      "|LATE_AIRCRAFT_DELAY|       5258837|  81.7943775859972|\n",
      "|      CARRIER_DELAY|       5258837|  81.7943775859972|\n",
      "|      WEATHER_DELAY|       5258837|  81.7943775859972|\n",
      "|          NAS_DELAY|       5258837|  81.7943775859972|\n",
      "|ACTUAL_ELAPSED_TIME|        102362|1.5921079277524373|\n",
      "|          ARR_DELAY|        102361|1.5920923740515742|\n",
      "|           AIR_TIME|        102361|1.5920923740515742|\n",
      "|          WHEELS_ON|         89322|1.3892876684971298|\n",
      "|           ARR_TIME|         89322|1.3892876684971298|\n",
      "|            TAXI_IN|         89321|1.3892721147962668|\n",
      "|         WHEELS_OFF|         85787|1.3343053359459405|\n",
      "|           TAXI_OUT|         85787|1.3343053359459405|\n",
      "|           DEP_TIME|         82867|  1.28888852942558|\n",
      "|          DEP_DELAY|         82867|  1.28888852942558|\n",
      "|           DIVERTED|             0|               0.0|\n",
      "|   CRS_ELAPSED_TIME|             0|               0.0|\n",
      "|           DISTANCE|             0|               0.0|\n",
      "+-------------------+--------------+------------------+\n",
      "only showing top 20 rows\n",
      "\n"
     ]
    }
   ],
   "source": [
    "# Conta os missings em cada coluna do df\n",
    "total_missing_values = df.select([sum(col(column).isNull().cast(\"integer\")).alias(column) for column in df.columns])\n",
    "\n",
    "# Cria um df que conta o total de missings e add uma nova coluna \n",
    "missing_table = spark.createDataFrame([(column, value) for column, value in zip(df.columns, total_missing_values.first())], [\"Column\", \"Missing Values\"])\n",
    "\n",
    "# Calculate o percentual de missing\n",
    "missing_table = missing_table.withColumn(\"Percentage\", (col(\"Missing Values\") / total_rows) * 100)\n",
    "\n",
    "# Ordena do maior para o menor percentual\n",
    "missing_table = missing_table.orderBy(col(\"Percentage\").desc())\n",
    "\n",
    "missing_table.show()\n"
   ]
  },
  {
   "cell_type": "code",
   "execution_count": 9,
   "id": "7224742b-a58a-493f-9033-c7fb0a3afbe4",
   "metadata": {},
   "outputs": [
    {
     "name": "stdout",
     "output_type": "stream",
     "text": [
      "+-----------------+-----------+--------------------+\n",
      "|CANCELLATION_CODE|Missing_qty|                   %|\n",
      "+-----------------+-----------+--------------------+\n",
      "|             null|    6342300|   98.64623698427427|\n",
      "|                B|      36651|   0.570058690334837|\n",
      "|                A|      35568|  0.5532140323000595|\n",
      "|                C|      14799|  0.2301792190735656|\n",
      "|                D|         20|3.110740172627415E-4|\n",
      "+-----------------+-----------+--------------------+\n",
      "\n"
     ]
    }
   ],
   "source": [
    "from pyspark.sql.functions import col, count\n",
    "\n",
    "# entendendo o total de missings de CANCELLATION_CODE do arquivo 2009\n",
    "\n",
    "missing_cancel_code = df.groupBy(\"CANCELLATION_CODE\").agg(count(\"*\").alias(\"Missing_qty\"))\n",
    "total_missing_code = df.count()\n",
    "missing_cancel_code = missing_cancel_code.withColumn(\"%\", (col(\"Missing_qty\") / total_missing_code) * 100)\n",
    "missing_cancel_code = missing_cancel_code.sort(col(\"%\").desc())\n",
    "missing_cancel_code.show()"
   ]
  },
  {
   "cell_type": "code",
   "execution_count": 10,
   "id": "3a5078c0-9fe5-447d-84b0-5345f1a74fcf",
   "metadata": {},
   "outputs": [],
   "source": [
    "# Drop nas linhas com null em ARR_DELAY and DEP_DELAY \n",
    "df = df.dropna(subset=[\"ARR_DELAY\", \"DEP_DELAY\"])"
   ]
  },
  {
   "cell_type": "code",
   "execution_count": 11,
   "id": "a6346b10-58ae-498e-94c5-0772025b6488",
   "metadata": {},
   "outputs": [
    {
     "data": {
      "text/plain": [
       "6326977"
      ]
     },
     "execution_count": 11,
     "metadata": {},
     "output_type": "execute_result"
    }
   ],
   "source": [
    "rows_after_drop = df.count()\n",
    "rows_after_drop"
   ]
  },
  {
   "cell_type": "markdown",
   "id": "3b547aa2-d31d-4818-bc79-65ad44a03a85",
   "metadata": {},
   "source": [
    "> Total de linhas no dataframe dropadas são de 100.361 - menor que 1% do banco total - após exclusão de linhas com NA"
   ]
  },
  {
   "cell_type": "markdown",
   "id": "6f7cc5a6-1c75-499b-a4a6-0acfcf65c0cc",
   "metadata": {},
   "source": [
    "<br>"
   ]
  },
  {
   "cell_type": "markdown",
   "id": "481bc89e-ee7e-436c-bc17-73eac130fb64",
   "metadata": {
    "tags": []
   },
   "source": [
    "## Tratamento "
   ]
  },
  {
   "cell_type": "code",
   "execution_count": 12,
   "id": "df8ca9dd-65a0-4768-8768-89e91ed904e8",
   "metadata": {},
   "outputs": [],
   "source": [
    "# criado uma nova coluna indicando o mês do ano do voo\n",
    "\n",
    "from pyspark.sql.functions import col, month\n",
    "df = df.withColumn('FL_DATE', col('FL_DATE').cast('date'))\n",
    "df = df.withColumn('FL_DATE_month', month(col('FL_DATE')))\n",
    "\n"
   ]
  },
  {
   "cell_type": "code",
   "execution_count": 13,
   "id": "56c85dc2-def5-4e6b-9d57-d3fe9a0d765b",
   "metadata": {},
   "outputs": [],
   "source": [
    "from pyspark.sql.functions import col, udf\n",
    "from pyspark.sql.types import StringType\n",
    "\n",
    "# Definindo os nomes das companhias\n",
    "airline_name = {\n",
    "    'UA': 'United Airlines',\n",
    "    'AS': 'Alaska Airlines',\n",
    "    '9E': 'Endeavor Air',\n",
    "    'B6': 'JetBlue Airways',\n",
    "    'EV': 'ExpressJet',\n",
    "    'F9': 'Frontier Airlines',\n",
    "    'G4': 'Allegiant Air',\n",
    "    'HA': 'Hawaiian Airlines',\n",
    "    'MQ': 'Envoy Air',\n",
    "    'NK': 'Spirit Airlines',\n",
    "    'OH': 'PSA Airlines',\n",
    "    'OO': 'SkyWest Airlines',\n",
    "    'VX': 'Virgin America',\n",
    "    'WN': 'Southwest Airlines',\n",
    "    'YV': 'Mesa Airline',\n",
    "    'YX': 'Republic Airways',\n",
    "    'AA': 'American Airlines',\n",
    "    'DL': 'Delta Airlines',\n",
    "    'XE': 'JetsuiteX',\n",
    "    'US': 'US Airlines',\n",
    "    'NW': 'Northwest Airlines',\n",
    "    'CO': 'Continental Airlines',\n",
    "    'FL': 'AirTran Airways',\n",
    "}\n",
    "\n",
    "# usando a função (UDF) para mapear o nome das companhias aereas \n",
    "get_airline_name = udf(lambda code: airline_name.get(code), StringType())\n",
    "\n",
    "# Nova coluna 'AIRLINE_NAME' com o nome das companhias aereas\n",
    "df = df.withColumn('AIRLINE_NAME', get_airline_name(col('OP_CARRIER')))"
   ]
  },
  {
   "cell_type": "code",
   "execution_count": 14,
   "id": "f06299b1-ec94-41af-b242-916713e6bc43",
   "metadata": {},
   "outputs": [
    {
     "data": {
      "text/html": [
       "<div>\n",
       "<style scoped>\n",
       "    .dataframe tbody tr th:only-of-type {\n",
       "        vertical-align: middle;\n",
       "    }\n",
       "\n",
       "    .dataframe tbody tr th {\n",
       "        vertical-align: top;\n",
       "    }\n",
       "\n",
       "    .dataframe thead th {\n",
       "        text-align: right;\n",
       "    }\n",
       "</style>\n",
       "<table border=\"1\" class=\"dataframe\">\n",
       "  <thead>\n",
       "    <tr style=\"text-align: right;\">\n",
       "      <th></th>\n",
       "      <th>FL_DATE</th>\n",
       "      <th>OP_CARRIER</th>\n",
       "      <th>OP_CARRIER_FL_NUM</th>\n",
       "      <th>ORIGIN</th>\n",
       "      <th>DEST</th>\n",
       "      <th>CRS_DEP_TIME</th>\n",
       "      <th>DEP_TIME</th>\n",
       "      <th>DEP_DELAY</th>\n",
       "      <th>TAXI_OUT</th>\n",
       "      <th>WHEELS_OFF</th>\n",
       "      <th>...</th>\n",
       "      <th>AIR_TIME</th>\n",
       "      <th>DISTANCE</th>\n",
       "      <th>CARRIER_DELAY</th>\n",
       "      <th>WEATHER_DELAY</th>\n",
       "      <th>NAS_DELAY</th>\n",
       "      <th>SECURITY_DELAY</th>\n",
       "      <th>LATE_AIRCRAFT_DELAY</th>\n",
       "      <th>Unnamed: 27</th>\n",
       "      <th>FL_DATE_month</th>\n",
       "      <th>AIRLINE_NAME</th>\n",
       "    </tr>\n",
       "  </thead>\n",
       "  <tbody>\n",
       "    <tr>\n",
       "      <th>0</th>\n",
       "      <td>2009-01-01</td>\n",
       "      <td>XE</td>\n",
       "      <td>1204</td>\n",
       "      <td>DCA</td>\n",
       "      <td>EWR</td>\n",
       "      <td>1100.0</td>\n",
       "      <td>1058.0</td>\n",
       "      <td>-2.0</td>\n",
       "      <td>18.0</td>\n",
       "      <td>1116.0</td>\n",
       "      <td>...</td>\n",
       "      <td>42.0</td>\n",
       "      <td>199.0</td>\n",
       "      <td>NaN</td>\n",
       "      <td>NaN</td>\n",
       "      <td>NaN</td>\n",
       "      <td>NaN</td>\n",
       "      <td>NaN</td>\n",
       "      <td>None</td>\n",
       "      <td>1</td>\n",
       "      <td>JetsuiteX</td>\n",
       "    </tr>\n",
       "    <tr>\n",
       "      <th>1</th>\n",
       "      <td>2009-01-01</td>\n",
       "      <td>XE</td>\n",
       "      <td>1206</td>\n",
       "      <td>EWR</td>\n",
       "      <td>IAD</td>\n",
       "      <td>1510.0</td>\n",
       "      <td>1509.0</td>\n",
       "      <td>-1.0</td>\n",
       "      <td>28.0</td>\n",
       "      <td>1537.0</td>\n",
       "      <td>...</td>\n",
       "      <td>43.0</td>\n",
       "      <td>213.0</td>\n",
       "      <td>NaN</td>\n",
       "      <td>NaN</td>\n",
       "      <td>NaN</td>\n",
       "      <td>NaN</td>\n",
       "      <td>NaN</td>\n",
       "      <td>None</td>\n",
       "      <td>1</td>\n",
       "      <td>JetsuiteX</td>\n",
       "    </tr>\n",
       "    <tr>\n",
       "      <th>2</th>\n",
       "      <td>2009-01-01</td>\n",
       "      <td>XE</td>\n",
       "      <td>1207</td>\n",
       "      <td>EWR</td>\n",
       "      <td>DCA</td>\n",
       "      <td>1100.0</td>\n",
       "      <td>1059.0</td>\n",
       "      <td>-1.0</td>\n",
       "      <td>20.0</td>\n",
       "      <td>1119.0</td>\n",
       "      <td>...</td>\n",
       "      <td>36.0</td>\n",
       "      <td>199.0</td>\n",
       "      <td>NaN</td>\n",
       "      <td>NaN</td>\n",
       "      <td>NaN</td>\n",
       "      <td>NaN</td>\n",
       "      <td>NaN</td>\n",
       "      <td>None</td>\n",
       "      <td>1</td>\n",
       "      <td>JetsuiteX</td>\n",
       "    </tr>\n",
       "    <tr>\n",
       "      <th>3</th>\n",
       "      <td>2009-01-01</td>\n",
       "      <td>XE</td>\n",
       "      <td>1208</td>\n",
       "      <td>DCA</td>\n",
       "      <td>EWR</td>\n",
       "      <td>1240.0</td>\n",
       "      <td>1249.0</td>\n",
       "      <td>9.0</td>\n",
       "      <td>10.0</td>\n",
       "      <td>1259.0</td>\n",
       "      <td>...</td>\n",
       "      <td>37.0</td>\n",
       "      <td>199.0</td>\n",
       "      <td>NaN</td>\n",
       "      <td>NaN</td>\n",
       "      <td>NaN</td>\n",
       "      <td>NaN</td>\n",
       "      <td>NaN</td>\n",
       "      <td>None</td>\n",
       "      <td>1</td>\n",
       "      <td>JetsuiteX</td>\n",
       "    </tr>\n",
       "    <tr>\n",
       "      <th>4</th>\n",
       "      <td>2009-01-01</td>\n",
       "      <td>XE</td>\n",
       "      <td>1209</td>\n",
       "      <td>IAD</td>\n",
       "      <td>EWR</td>\n",
       "      <td>1715.0</td>\n",
       "      <td>1705.0</td>\n",
       "      <td>-10.0</td>\n",
       "      <td>24.0</td>\n",
       "      <td>1729.0</td>\n",
       "      <td>...</td>\n",
       "      <td>40.0</td>\n",
       "      <td>213.0</td>\n",
       "      <td>NaN</td>\n",
       "      <td>NaN</td>\n",
       "      <td>NaN</td>\n",
       "      <td>NaN</td>\n",
       "      <td>NaN</td>\n",
       "      <td>None</td>\n",
       "      <td>1</td>\n",
       "      <td>JetsuiteX</td>\n",
       "    </tr>\n",
       "  </tbody>\n",
       "</table>\n",
       "<p>5 rows × 30 columns</p>\n",
       "</div>"
      ],
      "text/plain": [
       "      FL_DATE OP_CARRIER OP_CARRIER_FL_NUM ORIGIN DEST  CRS_DEP_TIME  \\\n",
       "0  2009-01-01         XE              1204    DCA  EWR        1100.0   \n",
       "1  2009-01-01         XE              1206    EWR  IAD        1510.0   \n",
       "2  2009-01-01         XE              1207    EWR  DCA        1100.0   \n",
       "3  2009-01-01         XE              1208    DCA  EWR        1240.0   \n",
       "4  2009-01-01         XE              1209    IAD  EWR        1715.0   \n",
       "\n",
       "   DEP_TIME  DEP_DELAY  TAXI_OUT  WHEELS_OFF  ...  AIR_TIME  DISTANCE  \\\n",
       "0    1058.0       -2.0      18.0      1116.0  ...      42.0     199.0   \n",
       "1    1509.0       -1.0      28.0      1537.0  ...      43.0     213.0   \n",
       "2    1059.0       -1.0      20.0      1119.0  ...      36.0     199.0   \n",
       "3    1249.0        9.0      10.0      1259.0  ...      37.0     199.0   \n",
       "4    1705.0      -10.0      24.0      1729.0  ...      40.0     213.0   \n",
       "\n",
       "   CARRIER_DELAY  WEATHER_DELAY  NAS_DELAY  SECURITY_DELAY  \\\n",
       "0            NaN            NaN        NaN             NaN   \n",
       "1            NaN            NaN        NaN             NaN   \n",
       "2            NaN            NaN        NaN             NaN   \n",
       "3            NaN            NaN        NaN             NaN   \n",
       "4            NaN            NaN        NaN             NaN   \n",
       "\n",
       "  LATE_AIRCRAFT_DELAY  Unnamed: 27  FL_DATE_month  AIRLINE_NAME  \n",
       "0                 NaN         None              1     JetsuiteX  \n",
       "1                 NaN         None              1     JetsuiteX  \n",
       "2                 NaN         None              1     JetsuiteX  \n",
       "3                 NaN         None              1     JetsuiteX  \n",
       "4                 NaN         None              1     JetsuiteX  \n",
       "\n",
       "[5 rows x 30 columns]"
      ]
     },
     "execution_count": 14,
     "metadata": {},
     "output_type": "execute_result"
    }
   ],
   "source": [
    "df.limit(5).toPandas()"
   ]
  },
  {
   "cell_type": "markdown",
   "id": "49572f11-e4cc-4de2-be2d-784c08d6c29b",
   "metadata": {},
   "source": [
    "<br>"
   ]
  },
  {
   "cell_type": "markdown",
   "id": "499c4822-b69e-4989-93a1-5551e8b1854a",
   "metadata": {},
   "source": [
    "> Checando os missings depois da limpeza"
   ]
  },
  {
   "cell_type": "code",
   "execution_count": 15,
   "id": "97ae4d8a-3c5d-4e1b-86f2-ba79955c4229",
   "metadata": {},
   "outputs": [
    {
     "name": "stdout",
     "output_type": "stream",
     "text": [
      "+-------------------+--------------+--------------------+\n",
      "|             Column|Missing Values|          Percentage|\n",
      "+-------------------+--------------+--------------------+\n",
      "|  CANCELLATION_CODE|       6326977|   98.40790762594843|\n",
      "|        Unnamed: 27|       6326977|   98.40790762594843|\n",
      "|      WEATHER_DELAY|       5156476|   80.20228521194561|\n",
      "|          NAS_DELAY|       5156476|   80.20228521194561|\n",
      "|      CARRIER_DELAY|       5156476|   80.20228521194561|\n",
      "|     SECURITY_DELAY|       5156476|   80.20228521194561|\n",
      "|LATE_AIRCRAFT_DELAY|       5156476|   80.20228521194561|\n",
      "|           ARR_TIME|             1|1.555370086313707...|\n",
      "|ACTUAL_ELAPSED_TIME|             1|1.555370086313707...|\n",
      "|          WHEELS_ON|             1|1.555370086313707...|\n",
      "|           AIR_TIME|             0|                 0.0|\n",
      "|  OP_CARRIER_FL_NUM|             0|                 0.0|\n",
      "|             ORIGIN|             0|                 0.0|\n",
      "|          DEP_DELAY|             0|                 0.0|\n",
      "|         WHEELS_OFF|             0|                 0.0|\n",
      "|               DEST|             0|                 0.0|\n",
      "|   CRS_ELAPSED_TIME|             0|                 0.0|\n",
      "|           TAXI_OUT|             0|                 0.0|\n",
      "|            TAXI_IN|             0|                 0.0|\n",
      "|       CRS_ARR_TIME|             0|                 0.0|\n",
      "+-------------------+--------------+--------------------+\n",
      "only showing top 20 rows\n",
      "\n"
     ]
    }
   ],
   "source": [
    "from pyspark.sql.functions import col, sum\n",
    "\n",
    "total_missing_values = df.select([sum(col(column).isNull().cast(\"integer\")).alias(column) for column in df.columns])\n",
    "missing_table = spark.createDataFrame([(column, value) for column, value in zip(df.columns, total_missing_values.first())], [\"Column\", \"Missing Values\"])\n",
    "missing_table = missing_table.withColumn(\"Percentage\", (col(\"Missing Values\") / total_rows) * 100)\n",
    "missing_table = missing_table.orderBy(col(\"Percentage\").desc())\n",
    "missing_table.show()"
   ]
  },
  {
   "cell_type": "code",
   "execution_count": null,
   "id": "0f61a0ac-6a2b-4970-a130-f109092e3224",
   "metadata": {},
   "outputs": [],
   "source": []
  },
  {
   "cell_type": "markdown",
   "id": "9863a8d9-8ebb-4d44-ae3d-4d281ab6ad6f",
   "metadata": {
    "tags": []
   },
   "source": [
    "## Analisando os dados"
   ]
  },
  {
   "cell_type": "markdown",
   "id": "a101bd2b-1b3e-4dd8-ac72-8b670e07bd2e",
   "metadata": {},
   "source": [
    "> Total de voos em 2009"
   ]
  },
  {
   "cell_type": "code",
   "execution_count": 16,
   "id": "e071facb-a037-4423-8af1-aa75bb7a07b1",
   "metadata": {},
   "outputs": [
    {
     "name": "stdout",
     "output_type": "stream",
     "text": [
      "Temos um total de 6326977 voos\n"
     ]
    }
   ],
   "source": [
    "total_voos = df.count()\n",
    "print('Temos um total de',total_voos,'voos')"
   ]
  },
  {
   "cell_type": "markdown",
   "id": "60faee3c-ba6a-4bf4-a0a4-da379b5e25c5",
   "metadata": {},
   "source": [
    "> Total de Companhias aéreas distintas em 2009"
   ]
  },
  {
   "cell_type": "code",
   "execution_count": 17,
   "id": "69101591-fe15-43c6-9c1f-9be80e566608",
   "metadata": {},
   "outputs": [
    {
     "name": "stdout",
     "output_type": "stream",
     "text": [
      "Number of distinct airlines: 19\n"
     ]
    }
   ],
   "source": [
    "airlines_count = df.select(\"OP_CARRIER\").distinct().count()\n",
    "print(\"Number of distinct airlines:\", airlines_count)\n"
   ]
  },
  {
   "cell_type": "markdown",
   "id": "dc338731-9198-432c-a23d-e22a4a8509ec",
   "metadata": {},
   "source": [
    "<br>"
   ]
  },
  {
   "cell_type": "markdown",
   "id": "7ac75374-c708-4f55-9f77-a1281309c683",
   "metadata": {},
   "source": [
    "> Total de voos por `ORIGIN` (Aeroportos de Saida)"
   ]
  },
  {
   "cell_type": "code",
   "execution_count": 18,
   "id": "83e55126-6177-4835-ad7c-4addeb86d39c",
   "metadata": {},
   "outputs": [
    {
     "name": "stdout",
     "output_type": "stream",
     "text": [
      "+------+------------+\n",
      "|ORIGIN|flight_count|\n",
      "+------+------------+\n",
      "|   ATL|      411010|\n",
      "|   ORD|      306396|\n",
      "|   DFW|      258840|\n",
      "|   DEN|      232677|\n",
      "|   LAX|      190665|\n",
      "|   PHX|      181887|\n",
      "|   IAH|      180451|\n",
      "|   LAS|      152777|\n",
      "|   DTW|      150185|\n",
      "|   SFO|      134650|\n",
      "|   SLC|      130560|\n",
      "|   MCO|      119939|\n",
      "|   MSP|      118227|\n",
      "|   JFK|      116687|\n",
      "|   EWR|      115343|\n",
      "|   CLT|      115273|\n",
      "|   BOS|      107350|\n",
      "|   SEA|      100231|\n",
      "|   BWI|       99683|\n",
      "|   LGA|       96069|\n",
      "+------+------------+\n",
      "only showing top 20 rows\n",
      "\n"
     ]
    }
   ],
   "source": [
    "from pyspark.sql.functions import count, col\n",
    "\n",
    "# total de voos por aeroporto\n",
    "total_flights = df.groupBy(\"ORIGIN\").agg(count(\"*\").alias(\"flight_count\"))\n",
    "# classifica do maior para o menor\n",
    "sorted_airports = total_flights.orderBy(col(\"flight_count\").desc())\n",
    "\n",
    "sorted_airports.show()"
   ]
  },
  {
   "cell_type": "markdown",
   "id": "66bdd867-e168-4311-8cdf-d947fcd4dee7",
   "metadata": {},
   "source": [
    "> Qual companhia aerea tem a maior media de distancia percorrida?"
   ]
  },
  {
   "cell_type": "code",
   "execution_count": 19,
   "id": "165fa4b6-6b1a-4858-8c78-4b2d767a1a8f",
   "metadata": {},
   "outputs": [
    {
     "name": "stdout",
     "output_type": "stream",
     "text": [
      "+--------------------+----------+------------------+-------------+\n",
      "|        AIRLINE_NAME|OP_CARRIER|      avg_distance|total_flights|\n",
      "+--------------------+----------+------------------+-------------+\n",
      "|  Southwest Airlines|        WN| 639.2343220338983|      1118640|\n",
      "|   American Airlines|        AA| 1051.582317723649|       539003|\n",
      "|    SkyWest Airlines|        OO|445.69235421085926|       537420|\n",
      "|           Envoy Air|        MQ|418.52932891700993|       423882|\n",
      "|      Delta Airlines|        DL| 928.3996401567888|       420183|\n",
      "|         US Airlines|        US| 858.0384637160996|       406227|\n",
      "|     United Airlines|        UA|1110.6336165810967|       369288|\n",
      "|           JetsuiteX|        XE| 566.5555588542852|       303147|\n",
      "|          ExpressJet|        EV| 405.0098435999451|       291560|\n",
      "|  Northwest Airlines|        NW| 876.9985246314164|       290097|\n",
      "|        Endeavor Air|        9E| 411.7583852648214|       256909|\n",
      "|Continental Airlines|        CO|1191.2459035727763|       254368|\n",
      "|     AirTran Airways|        FL| 735.9750717374611|       247430|\n",
      "|        Mesa Airline|        YV|  390.650600889771|       237814|\n",
      "|     JetBlue Airways|        B6|1056.3722617421208|       191043|\n",
      "|        PSA Airlines|        OH|  485.454849797209|       145470|\n",
      "|     Alaska Airlines|        AS|1024.6816863789631|       135533|\n",
      "|   Frontier Airlines|        F9| 862.5735146080417|        86425|\n",
      "|   Hawaiian Airlines|        HA|504.46101353773196|        72538|\n",
      "+--------------------+----------+------------------+-------------+\n",
      "\n"
     ]
    }
   ],
   "source": [
    "from pyspark.sql.functions import avg, desc, count\n",
    "\n",
    "# Calcula a média de distância percorrida por cada 'ORIGIN' e 'OP_CARRIER'\n",
    "avg_distance = df.groupBy(\"AIRLINE_NAME\", \"OP_CARRIER\").agg(avg(\"DISTANCE\").alias(\"avg_distance\"))\n",
    "\n",
    "# Calcula o total de voos para cada Airline\n",
    "total_flights = df.groupBy(\"AIRLINE_NAME\").agg(count(\"*\").alias(\"total_flights\"))\n",
    "\n",
    "# Join entre os dataframes criados: 'avg_distance' e 'total_flights', agrupando por Airline\n",
    "table_distance_flights = avg_distance.join(total_flights, \"AIRLINE_NAME\", \"inner\")\n",
    "\n",
    "# Classifica pela maior distância média\n",
    "table_distance_flights = table_distance_flights.orderBy(desc(\"total_flights\"))\n",
    "\n",
    "table_distance_flights.show()"
   ]
  },
  {
   "cell_type": "markdown",
   "id": "cce762fc-3f76-4516-9a4e-fadc66d942a8",
   "metadata": {},
   "source": [
    "> Top 10 Aeroportos com mais voos em 2009 por `ORIGIN`"
   ]
  },
  {
   "cell_type": "code",
   "execution_count": 20,
   "id": "72201ccd-033a-42ac-9c6d-71afbcf6a880",
   "metadata": {},
   "outputs": [
    {
     "name": "stdout",
     "output_type": "stream",
     "text": [
      "+------+------------+\n",
      "|ORIGIN|flight_count|\n",
      "+------+------------+\n",
      "|   ATL|      411010|\n",
      "|   ORD|      306396|\n",
      "|   DFW|      258840|\n",
      "|   DEN|      232677|\n",
      "|   LAX|      190665|\n",
      "|   PHX|      181887|\n",
      "|   IAH|      180451|\n",
      "|   LAS|      152777|\n",
      "|   DTW|      150185|\n",
      "|   SFO|      134650|\n",
      "+------+------------+\n",
      "\n"
     ]
    }
   ],
   "source": [
    "# 10 principais aeroportos\n",
    "top_10_airports = df.groupBy(\"ORIGIN\").agg(count(\"*\").alias(\"flight_count\")) \\\n",
    "    .orderBy(col(\"flight_count\").desc()).limit(10)\n",
    "\n",
    "top_10_airports.show()"
   ]
  },
  {
   "cell_type": "markdown",
   "id": "fdb331e8-926c-4887-94a8-df52dfffc8fa",
   "metadata": {},
   "source": [
    "<br>"
   ]
  },
  {
   "cell_type": "markdown",
   "id": "6a999506-245d-40d1-bcc0-2512e90f0175",
   "metadata": {
    "tags": []
   },
   "source": [
    "## Rodar o drop de colunas após analise 2018 e 2014"
   ]
  },
  {
   "cell_type": "markdown",
   "id": "86707bc8-38c5-4129-bc2e-0ccc9c140696",
   "metadata": {},
   "source": [
    "> Após identificarmos com histogramas que os dados de anos posteriores são similares em relação a distribuição e NA, optamos por 2 grupos de exclusão:\n",
    "* Alto percentual de nulos: > 80%\n",
    "* Opção de analise"
   ]
  },
  {
   "cell_type": "code",
   "execution_count": 21,
   "id": "b9ff8db6-707c-4ce5-9ac1-d7e3d1e14acc",
   "metadata": {},
   "outputs": [],
   "source": [
    "df = df.drop(\n",
    "    'Unnamed: 27', # high percent of null\n",
    "    'CANCELLATION_CODE', # high percent of null\n",
    "    'LATE_AIRCRAFT_DELAY', # high percent of null\n",
    "    'SECURITY_DELAY', # high percent of null\n",
    "    'NAS_DELAY', # high percent of null\n",
    "    'WEATHER_DELAY', # option\n",
    "    'CARRIER_DELAY', # option\n",
    "    \"CRS_DEP_TIME\", # option\n",
    "    \"DEP_TIME\", # option\n",
    "    \"TAXI_OUT\", # option\n",
    "    \"WHEELS_OFF\", # option\n",
    "    \"WHEELS_ON\", # option\n",
    "    \"TAXI_IN\", # option\n",
    "    \"CRS_ARR_TIME\", # option\n",
    "    \"ARR_TIME\", # option\n",
    "    \"DIVERTED\", # option\n",
    "    \"CRS_ELAPSED_TIME\", # option\n",
    "    \"ACTUAL_ELAPSED_TIME\", # option\n",
    "    \"AIR_TIME\", # option\n",
    "    )"
   ]
  },
  {
   "cell_type": "code",
   "execution_count": 22,
   "id": "4cb19a73-389d-45b6-9190-1391cf9bfe64",
   "metadata": {},
   "outputs": [
    {
     "data": {
      "text/html": [
       "<div>\n",
       "<style scoped>\n",
       "    .dataframe tbody tr th:only-of-type {\n",
       "        vertical-align: middle;\n",
       "    }\n",
       "\n",
       "    .dataframe tbody tr th {\n",
       "        vertical-align: top;\n",
       "    }\n",
       "\n",
       "    .dataframe thead th {\n",
       "        text-align: right;\n",
       "    }\n",
       "</style>\n",
       "<table border=\"1\" class=\"dataframe\">\n",
       "  <thead>\n",
       "    <tr style=\"text-align: right;\">\n",
       "      <th></th>\n",
       "      <th>FL_DATE</th>\n",
       "      <th>OP_CARRIER</th>\n",
       "      <th>OP_CARRIER_FL_NUM</th>\n",
       "      <th>ORIGIN</th>\n",
       "      <th>DEST</th>\n",
       "      <th>DEP_DELAY</th>\n",
       "      <th>ARR_DELAY</th>\n",
       "      <th>CANCELLED</th>\n",
       "      <th>DISTANCE</th>\n",
       "      <th>FL_DATE_month</th>\n",
       "      <th>AIRLINE_NAME</th>\n",
       "    </tr>\n",
       "  </thead>\n",
       "  <tbody>\n",
       "    <tr>\n",
       "      <th>0</th>\n",
       "      <td>2009-01-01</td>\n",
       "      <td>XE</td>\n",
       "      <td>1204</td>\n",
       "      <td>DCA</td>\n",
       "      <td>EWR</td>\n",
       "      <td>-2.0</td>\n",
       "      <td>4.0</td>\n",
       "      <td>0.0</td>\n",
       "      <td>199.0</td>\n",
       "      <td>1</td>\n",
       "      <td>JetsuiteX</td>\n",
       "    </tr>\n",
       "    <tr>\n",
       "      <th>1</th>\n",
       "      <td>2009-01-01</td>\n",
       "      <td>XE</td>\n",
       "      <td>1206</td>\n",
       "      <td>EWR</td>\n",
       "      <td>IAD</td>\n",
       "      <td>-1.0</td>\n",
       "      <td>-8.0</td>\n",
       "      <td>0.0</td>\n",
       "      <td>213.0</td>\n",
       "      <td>1</td>\n",
       "      <td>JetsuiteX</td>\n",
       "    </tr>\n",
       "    <tr>\n",
       "      <th>2</th>\n",
       "      <td>2009-01-01</td>\n",
       "      <td>XE</td>\n",
       "      <td>1207</td>\n",
       "      <td>EWR</td>\n",
       "      <td>DCA</td>\n",
       "      <td>-1.0</td>\n",
       "      <td>-9.0</td>\n",
       "      <td>0.0</td>\n",
       "      <td>199.0</td>\n",
       "      <td>1</td>\n",
       "      <td>JetsuiteX</td>\n",
       "    </tr>\n",
       "    <tr>\n",
       "      <th>3</th>\n",
       "      <td>2009-01-01</td>\n",
       "      <td>XE</td>\n",
       "      <td>1208</td>\n",
       "      <td>DCA</td>\n",
       "      <td>EWR</td>\n",
       "      <td>9.0</td>\n",
       "      <td>-12.0</td>\n",
       "      <td>0.0</td>\n",
       "      <td>199.0</td>\n",
       "      <td>1</td>\n",
       "      <td>JetsuiteX</td>\n",
       "    </tr>\n",
       "    <tr>\n",
       "      <th>4</th>\n",
       "      <td>2009-01-01</td>\n",
       "      <td>XE</td>\n",
       "      <td>1209</td>\n",
       "      <td>IAD</td>\n",
       "      <td>EWR</td>\n",
       "      <td>-10.0</td>\n",
       "      <td>-38.0</td>\n",
       "      <td>0.0</td>\n",
       "      <td>213.0</td>\n",
       "      <td>1</td>\n",
       "      <td>JetsuiteX</td>\n",
       "    </tr>\n",
       "    <tr>\n",
       "      <th>5</th>\n",
       "      <td>2009-01-01</td>\n",
       "      <td>XE</td>\n",
       "      <td>1212</td>\n",
       "      <td>ATL</td>\n",
       "      <td>EWR</td>\n",
       "      <td>-2.0</td>\n",
       "      <td>-19.0</td>\n",
       "      <td>0.0</td>\n",
       "      <td>745.0</td>\n",
       "      <td>1</td>\n",
       "      <td>JetsuiteX</td>\n",
       "    </tr>\n",
       "    <tr>\n",
       "      <th>6</th>\n",
       "      <td>2009-01-01</td>\n",
       "      <td>XE</td>\n",
       "      <td>1212</td>\n",
       "      <td>CLE</td>\n",
       "      <td>ATL</td>\n",
       "      <td>-8.0</td>\n",
       "      <td>-17.0</td>\n",
       "      <td>0.0</td>\n",
       "      <td>554.0</td>\n",
       "      <td>1</td>\n",
       "      <td>JetsuiteX</td>\n",
       "    </tr>\n",
       "    <tr>\n",
       "      <th>7</th>\n",
       "      <td>2009-01-01</td>\n",
       "      <td>XE</td>\n",
       "      <td>1214</td>\n",
       "      <td>DCA</td>\n",
       "      <td>EWR</td>\n",
       "      <td>-7.0</td>\n",
       "      <td>-8.0</td>\n",
       "      <td>0.0</td>\n",
       "      <td>199.0</td>\n",
       "      <td>1</td>\n",
       "      <td>JetsuiteX</td>\n",
       "    </tr>\n",
       "    <tr>\n",
       "      <th>8</th>\n",
       "      <td>2009-01-01</td>\n",
       "      <td>XE</td>\n",
       "      <td>1215</td>\n",
       "      <td>EWR</td>\n",
       "      <td>DCA</td>\n",
       "      <td>-5.0</td>\n",
       "      <td>-15.0</td>\n",
       "      <td>0.0</td>\n",
       "      <td>199.0</td>\n",
       "      <td>1</td>\n",
       "      <td>JetsuiteX</td>\n",
       "    </tr>\n",
       "    <tr>\n",
       "      <th>9</th>\n",
       "      <td>2009-01-01</td>\n",
       "      <td>XE</td>\n",
       "      <td>1217</td>\n",
       "      <td>EWR</td>\n",
       "      <td>DCA</td>\n",
       "      <td>-5.0</td>\n",
       "      <td>-12.0</td>\n",
       "      <td>0.0</td>\n",
       "      <td>199.0</td>\n",
       "      <td>1</td>\n",
       "      <td>JetsuiteX</td>\n",
       "    </tr>\n",
       "  </tbody>\n",
       "</table>\n",
       "</div>"
      ],
      "text/plain": [
       "      FL_DATE OP_CARRIER OP_CARRIER_FL_NUM ORIGIN DEST  DEP_DELAY  ARR_DELAY  \\\n",
       "0  2009-01-01         XE              1204    DCA  EWR       -2.0        4.0   \n",
       "1  2009-01-01         XE              1206    EWR  IAD       -1.0       -8.0   \n",
       "2  2009-01-01         XE              1207    EWR  DCA       -1.0       -9.0   \n",
       "3  2009-01-01         XE              1208    DCA  EWR        9.0      -12.0   \n",
       "4  2009-01-01         XE              1209    IAD  EWR      -10.0      -38.0   \n",
       "5  2009-01-01         XE              1212    ATL  EWR       -2.0      -19.0   \n",
       "6  2009-01-01         XE              1212    CLE  ATL       -8.0      -17.0   \n",
       "7  2009-01-01         XE              1214    DCA  EWR       -7.0       -8.0   \n",
       "8  2009-01-01         XE              1215    EWR  DCA       -5.0      -15.0   \n",
       "9  2009-01-01         XE              1217    EWR  DCA       -5.0      -12.0   \n",
       "\n",
       "   CANCELLED  DISTANCE  FL_DATE_month AIRLINE_NAME  \n",
       "0        0.0     199.0              1    JetsuiteX  \n",
       "1        0.0     213.0              1    JetsuiteX  \n",
       "2        0.0     199.0              1    JetsuiteX  \n",
       "3        0.0     199.0              1    JetsuiteX  \n",
       "4        0.0     213.0              1    JetsuiteX  \n",
       "5        0.0     745.0              1    JetsuiteX  \n",
       "6        0.0     554.0              1    JetsuiteX  \n",
       "7        0.0     199.0              1    JetsuiteX  \n",
       "8        0.0     199.0              1    JetsuiteX  \n",
       "9        0.0     199.0              1    JetsuiteX  "
      ]
     },
     "execution_count": 22,
     "metadata": {},
     "output_type": "execute_result"
    }
   ],
   "source": [
    "df.limit(10).toPandas()"
   ]
  },
  {
   "cell_type": "code",
   "execution_count": null,
   "id": "a157f262-ae60-455d-94ec-42c3c82646b6",
   "metadata": {},
   "outputs": [],
   "source": []
  },
  {
   "cell_type": "code",
   "execution_count": 23,
   "id": "e96ca18a-7bbd-4e32-b014-50fa0c36cfd9",
   "metadata": {},
   "outputs": [
    {
     "name": "stdout",
     "output_type": "stream",
     "text": [
      "+-----------------+--------------+----------+\n",
      "|           Column|Missing Values|Percentage|\n",
      "+-----------------+--------------+----------+\n",
      "|        DEP_DELAY|             0|       0.0|\n",
      "|        ARR_DELAY|             0|       0.0|\n",
      "|        CANCELLED|             0|       0.0|\n",
      "|         DISTANCE|             0|       0.0|\n",
      "|    FL_DATE_month|             0|       0.0|\n",
      "|     AIRLINE_NAME|             0|       0.0|\n",
      "|          FL_DATE|             0|       0.0|\n",
      "|       OP_CARRIER|             0|       0.0|\n",
      "|OP_CARRIER_FL_NUM|             0|       0.0|\n",
      "|           ORIGIN|             0|       0.0|\n",
      "|             DEST|             0|       0.0|\n",
      "+-----------------+--------------+----------+\n",
      "\n"
     ]
    }
   ],
   "source": [
    "from pyspark.sql.functions import col, sum\n",
    "\n",
    "total_missing_values = df.select([sum(col(column).isNull().cast(\"integer\")).alias(column) for column in df.columns])\n",
    "missing_table = spark.createDataFrame([(column, value) for column, value in zip(df.columns, total_missing_values.first())], [\"Column\", \"Missing Values\"])\n",
    "missing_table = missing_table.withColumn(\"Percentage\", (col(\"Missing Values\") / total_rows) * 100)\n",
    "missing_table = missing_table.orderBy(col(\"Percentage\").desc())\n",
    "missing_table.show()"
   ]
  },
  {
   "cell_type": "code",
   "execution_count": 24,
   "id": "6a7af3e7-1290-4643-b89e-e92b081a4b19",
   "metadata": {},
   "outputs": [
    {
     "name": "stdout",
     "output_type": "stream",
     "text": [
      "+--------------------+-------+\n",
      "|        AIRLINE_NAME|  count|\n",
      "+--------------------+-------+\n",
      "|         US Airlines| 406227|\n",
      "|        Mesa Airline| 237814|\n",
      "|  Northwest Airlines| 290097|\n",
      "|     United Airlines| 369288|\n",
      "|   Hawaiian Airlines|  72538|\n",
      "|Continental Airlines| 254368|\n",
      "|          ExpressJet| 291560|\n",
      "|    SkyWest Airlines| 537420|\n",
      "|   Frontier Airlines|  86425|\n",
      "|        Endeavor Air| 256909|\n",
      "|   American Airlines| 539003|\n",
      "|     AirTran Airways| 247430|\n",
      "|     JetBlue Airways| 191043|\n",
      "|           Envoy Air| 423882|\n",
      "|      Delta Airlines| 420183|\n",
      "|        PSA Airlines| 145470|\n",
      "|     Alaska Airlines| 135533|\n",
      "|           JetsuiteX| 303147|\n",
      "|  Southwest Airlines|1118640|\n",
      "+--------------------+-------+\n",
      "\n"
     ]
    }
   ],
   "source": [
    "df.groupBy('AIRLINE_NAME').count().show()"
   ]
  },
  {
   "cell_type": "markdown",
   "id": "75a27d54-671b-467b-92c7-f9d35de3ac8e",
   "metadata": {},
   "source": [
    "<br>"
   ]
  },
  {
   "cell_type": "markdown",
   "id": "e3d09660-c1ef-4f0a-bf1e-580b58807c1e",
   "metadata": {
    "tags": []
   },
   "source": [
    "## Criando nossa variável explicada"
   ]
  },
  {
   "cell_type": "code",
   "execution_count": 25,
   "id": "e395fe96-2ad3-48d0-bc7a-2b3e94decb3b",
   "metadata": {},
   "outputs": [],
   "source": [
    "# Criando script com nossa var\n",
    "\n",
    "from pyspark.sql.functions import col, when\n",
    "\n",
    "# Soma DEP_DELAY + ARR_DELAY\n",
    "df = df.withColumn('DELAY_CALCULATE', col('DEP_DELAY') + col('ARR_DELAY'))\n"
   ]
  },
  {
   "cell_type": "code",
   "execution_count": 26,
   "id": "6669d6bf-53e8-48ee-9020-a291fbede9ee",
   "metadata": {},
   "outputs": [],
   "source": [
    "# Cria a coluna que indica se atrasou ou não, com base em nosso objetivo voltado a experi do cliente 'DELAY_FINAL'\n",
    "df = df.withColumn('DELAY_RESULT', when(col('DELAY_CALCULATE') <= 0, 'NOT DELAYED').otherwise('DELAYED'))"
   ]
  },
  {
   "cell_type": "code",
   "execution_count": 27,
   "id": "0bc49ad6-7758-43e9-a672-cd09cf28730e",
   "metadata": {},
   "outputs": [],
   "source": [
    "# Nova coluna com valor booleano para rodar modelo estatistico\n",
    "\n",
    "df = df.withColumn('DELAY_BOOLEAN', when(col('DELAY_RESULT') == 'DELAYED', 1) .otherwise(0))"
   ]
  },
  {
   "cell_type": "code",
   "execution_count": 28,
   "id": "7bfd32cb-8a70-42b3-8e67-64c28fefd7c6",
   "metadata": {},
   "outputs": [
    {
     "data": {
      "text/html": [
       "<div>\n",
       "<style scoped>\n",
       "    .dataframe tbody tr th:only-of-type {\n",
       "        vertical-align: middle;\n",
       "    }\n",
       "\n",
       "    .dataframe tbody tr th {\n",
       "        vertical-align: top;\n",
       "    }\n",
       "\n",
       "    .dataframe thead th {\n",
       "        text-align: right;\n",
       "    }\n",
       "</style>\n",
       "<table border=\"1\" class=\"dataframe\">\n",
       "  <thead>\n",
       "    <tr style=\"text-align: right;\">\n",
       "      <th></th>\n",
       "      <th>FL_DATE</th>\n",
       "      <th>OP_CARRIER</th>\n",
       "      <th>OP_CARRIER_FL_NUM</th>\n",
       "      <th>ORIGIN</th>\n",
       "      <th>DEST</th>\n",
       "      <th>DEP_DELAY</th>\n",
       "      <th>ARR_DELAY</th>\n",
       "      <th>CANCELLED</th>\n",
       "      <th>DISTANCE</th>\n",
       "      <th>FL_DATE_month</th>\n",
       "      <th>AIRLINE_NAME</th>\n",
       "      <th>DELAY_CALCULATE</th>\n",
       "      <th>DELAY_RESULT</th>\n",
       "      <th>DELAY_BOOLEAN</th>\n",
       "    </tr>\n",
       "  </thead>\n",
       "  <tbody>\n",
       "    <tr>\n",
       "      <th>0</th>\n",
       "      <td>2009-01-01</td>\n",
       "      <td>XE</td>\n",
       "      <td>1204</td>\n",
       "      <td>DCA</td>\n",
       "      <td>EWR</td>\n",
       "      <td>-2.0</td>\n",
       "      <td>4.0</td>\n",
       "      <td>0.0</td>\n",
       "      <td>199.0</td>\n",
       "      <td>1</td>\n",
       "      <td>JetsuiteX</td>\n",
       "      <td>2.0</td>\n",
       "      <td>DELAYED</td>\n",
       "      <td>1</td>\n",
       "    </tr>\n",
       "    <tr>\n",
       "      <th>1</th>\n",
       "      <td>2009-01-01</td>\n",
       "      <td>XE</td>\n",
       "      <td>1206</td>\n",
       "      <td>EWR</td>\n",
       "      <td>IAD</td>\n",
       "      <td>-1.0</td>\n",
       "      <td>-8.0</td>\n",
       "      <td>0.0</td>\n",
       "      <td>213.0</td>\n",
       "      <td>1</td>\n",
       "      <td>JetsuiteX</td>\n",
       "      <td>-9.0</td>\n",
       "      <td>NOT DELAYED</td>\n",
       "      <td>0</td>\n",
       "    </tr>\n",
       "    <tr>\n",
       "      <th>2</th>\n",
       "      <td>2009-01-01</td>\n",
       "      <td>XE</td>\n",
       "      <td>1207</td>\n",
       "      <td>EWR</td>\n",
       "      <td>DCA</td>\n",
       "      <td>-1.0</td>\n",
       "      <td>-9.0</td>\n",
       "      <td>0.0</td>\n",
       "      <td>199.0</td>\n",
       "      <td>1</td>\n",
       "      <td>JetsuiteX</td>\n",
       "      <td>-10.0</td>\n",
       "      <td>NOT DELAYED</td>\n",
       "      <td>0</td>\n",
       "    </tr>\n",
       "    <tr>\n",
       "      <th>3</th>\n",
       "      <td>2009-01-01</td>\n",
       "      <td>XE</td>\n",
       "      <td>1208</td>\n",
       "      <td>DCA</td>\n",
       "      <td>EWR</td>\n",
       "      <td>9.0</td>\n",
       "      <td>-12.0</td>\n",
       "      <td>0.0</td>\n",
       "      <td>199.0</td>\n",
       "      <td>1</td>\n",
       "      <td>JetsuiteX</td>\n",
       "      <td>-3.0</td>\n",
       "      <td>NOT DELAYED</td>\n",
       "      <td>0</td>\n",
       "    </tr>\n",
       "    <tr>\n",
       "      <th>4</th>\n",
       "      <td>2009-01-01</td>\n",
       "      <td>XE</td>\n",
       "      <td>1209</td>\n",
       "      <td>IAD</td>\n",
       "      <td>EWR</td>\n",
       "      <td>-10.0</td>\n",
       "      <td>-38.0</td>\n",
       "      <td>0.0</td>\n",
       "      <td>213.0</td>\n",
       "      <td>1</td>\n",
       "      <td>JetsuiteX</td>\n",
       "      <td>-48.0</td>\n",
       "      <td>NOT DELAYED</td>\n",
       "      <td>0</td>\n",
       "    </tr>\n",
       "    <tr>\n",
       "      <th>5</th>\n",
       "      <td>2009-01-01</td>\n",
       "      <td>XE</td>\n",
       "      <td>1212</td>\n",
       "      <td>ATL</td>\n",
       "      <td>EWR</td>\n",
       "      <td>-2.0</td>\n",
       "      <td>-19.0</td>\n",
       "      <td>0.0</td>\n",
       "      <td>745.0</td>\n",
       "      <td>1</td>\n",
       "      <td>JetsuiteX</td>\n",
       "      <td>-21.0</td>\n",
       "      <td>NOT DELAYED</td>\n",
       "      <td>0</td>\n",
       "    </tr>\n",
       "    <tr>\n",
       "      <th>6</th>\n",
       "      <td>2009-01-01</td>\n",
       "      <td>XE</td>\n",
       "      <td>1212</td>\n",
       "      <td>CLE</td>\n",
       "      <td>ATL</td>\n",
       "      <td>-8.0</td>\n",
       "      <td>-17.0</td>\n",
       "      <td>0.0</td>\n",
       "      <td>554.0</td>\n",
       "      <td>1</td>\n",
       "      <td>JetsuiteX</td>\n",
       "      <td>-25.0</td>\n",
       "      <td>NOT DELAYED</td>\n",
       "      <td>0</td>\n",
       "    </tr>\n",
       "    <tr>\n",
       "      <th>7</th>\n",
       "      <td>2009-01-01</td>\n",
       "      <td>XE</td>\n",
       "      <td>1214</td>\n",
       "      <td>DCA</td>\n",
       "      <td>EWR</td>\n",
       "      <td>-7.0</td>\n",
       "      <td>-8.0</td>\n",
       "      <td>0.0</td>\n",
       "      <td>199.0</td>\n",
       "      <td>1</td>\n",
       "      <td>JetsuiteX</td>\n",
       "      <td>-15.0</td>\n",
       "      <td>NOT DELAYED</td>\n",
       "      <td>0</td>\n",
       "    </tr>\n",
       "    <tr>\n",
       "      <th>8</th>\n",
       "      <td>2009-01-01</td>\n",
       "      <td>XE</td>\n",
       "      <td>1215</td>\n",
       "      <td>EWR</td>\n",
       "      <td>DCA</td>\n",
       "      <td>-5.0</td>\n",
       "      <td>-15.0</td>\n",
       "      <td>0.0</td>\n",
       "      <td>199.0</td>\n",
       "      <td>1</td>\n",
       "      <td>JetsuiteX</td>\n",
       "      <td>-20.0</td>\n",
       "      <td>NOT DELAYED</td>\n",
       "      <td>0</td>\n",
       "    </tr>\n",
       "    <tr>\n",
       "      <th>9</th>\n",
       "      <td>2009-01-01</td>\n",
       "      <td>XE</td>\n",
       "      <td>1217</td>\n",
       "      <td>EWR</td>\n",
       "      <td>DCA</td>\n",
       "      <td>-5.0</td>\n",
       "      <td>-12.0</td>\n",
       "      <td>0.0</td>\n",
       "      <td>199.0</td>\n",
       "      <td>1</td>\n",
       "      <td>JetsuiteX</td>\n",
       "      <td>-17.0</td>\n",
       "      <td>NOT DELAYED</td>\n",
       "      <td>0</td>\n",
       "    </tr>\n",
       "  </tbody>\n",
       "</table>\n",
       "</div>"
      ],
      "text/plain": [
       "      FL_DATE OP_CARRIER OP_CARRIER_FL_NUM ORIGIN DEST  DEP_DELAY  ARR_DELAY  \\\n",
       "0  2009-01-01         XE              1204    DCA  EWR       -2.0        4.0   \n",
       "1  2009-01-01         XE              1206    EWR  IAD       -1.0       -8.0   \n",
       "2  2009-01-01         XE              1207    EWR  DCA       -1.0       -9.0   \n",
       "3  2009-01-01         XE              1208    DCA  EWR        9.0      -12.0   \n",
       "4  2009-01-01         XE              1209    IAD  EWR      -10.0      -38.0   \n",
       "5  2009-01-01         XE              1212    ATL  EWR       -2.0      -19.0   \n",
       "6  2009-01-01         XE              1212    CLE  ATL       -8.0      -17.0   \n",
       "7  2009-01-01         XE              1214    DCA  EWR       -7.0       -8.0   \n",
       "8  2009-01-01         XE              1215    EWR  DCA       -5.0      -15.0   \n",
       "9  2009-01-01         XE              1217    EWR  DCA       -5.0      -12.0   \n",
       "\n",
       "   CANCELLED  DISTANCE  FL_DATE_month AIRLINE_NAME  DELAY_CALCULATE  \\\n",
       "0        0.0     199.0              1    JetsuiteX              2.0   \n",
       "1        0.0     213.0              1    JetsuiteX             -9.0   \n",
       "2        0.0     199.0              1    JetsuiteX            -10.0   \n",
       "3        0.0     199.0              1    JetsuiteX             -3.0   \n",
       "4        0.0     213.0              1    JetsuiteX            -48.0   \n",
       "5        0.0     745.0              1    JetsuiteX            -21.0   \n",
       "6        0.0     554.0              1    JetsuiteX            -25.0   \n",
       "7        0.0     199.0              1    JetsuiteX            -15.0   \n",
       "8        0.0     199.0              1    JetsuiteX            -20.0   \n",
       "9        0.0     199.0              1    JetsuiteX            -17.0   \n",
       "\n",
       "  DELAY_RESULT  DELAY_BOOLEAN  \n",
       "0      DELAYED              1  \n",
       "1  NOT DELAYED              0  \n",
       "2  NOT DELAYED              0  \n",
       "3  NOT DELAYED              0  \n",
       "4  NOT DELAYED              0  \n",
       "5  NOT DELAYED              0  \n",
       "6  NOT DELAYED              0  \n",
       "7  NOT DELAYED              0  \n",
       "8  NOT DELAYED              0  \n",
       "9  NOT DELAYED              0  "
      ]
     },
     "execution_count": 28,
     "metadata": {},
     "output_type": "execute_result"
    }
   ],
   "source": [
    "df.limit(10).toPandas()"
   ]
  },
  {
   "cell_type": "code",
   "execution_count": 29,
   "id": "86101ab6-9620-486c-9621-5fc1c9b838ac",
   "metadata": {},
   "outputs": [
    {
     "name": "stdout",
     "output_type": "stream",
     "text": [
      "+------------+-------+\n",
      "|DELAY_RESULT|  count|\n",
      "+------------+-------+\n",
      "| NOT DELAYED|3926390|\n",
      "|     DELAYED|2400587|\n",
      "+------------+-------+\n",
      "\n"
     ]
    }
   ],
   "source": [
    "df.groupBy('DELAY_RESULT').count().show()"
   ]
  },
  {
   "cell_type": "code",
   "execution_count": 30,
   "id": "d4fa0f2b-91e4-4adf-abea-cc2f967ca61d",
   "metadata": {},
   "outputs": [],
   "source": [
    "from pyspark.sql.functions import col\n",
    "\n",
    "# Convertendo \"DELAY_CALCULATE\" para Integer type // double type poderia estar interferindo no modelo de regressão linear\n",
    "df = df.withColumn(\"DELAY_CALCULATE\", col(\"DELAY_CALCULATE\").cast(\"integer\"))"
   ]
  },
  {
   "cell_type": "code",
   "execution_count": 31,
   "id": "fa23262a-9256-428e-8760-713d616e6892",
   "metadata": {},
   "outputs": [
    {
     "name": "stdout",
     "output_type": "stream",
     "text": [
      "root\n",
      " |-- FL_DATE: date (nullable = true)\n",
      " |-- OP_CARRIER: string (nullable = true)\n",
      " |-- OP_CARRIER_FL_NUM: string (nullable = true)\n",
      " |-- ORIGIN: string (nullable = true)\n",
      " |-- DEST: string (nullable = true)\n",
      " |-- DEP_DELAY: double (nullable = true)\n",
      " |-- ARR_DELAY: double (nullable = true)\n",
      " |-- CANCELLED: double (nullable = true)\n",
      " |-- DISTANCE: double (nullable = true)\n",
      " |-- FL_DATE_month: integer (nullable = true)\n",
      " |-- AIRLINE_NAME: string (nullable = true)\n",
      " |-- DELAY_CALCULATE: integer (nullable = true)\n",
      " |-- DELAY_RESULT: string (nullable = false)\n",
      " |-- DELAY_BOOLEAN: integer (nullable = false)\n",
      "\n"
     ]
    }
   ],
   "source": [
    "df.printSchema()"
   ]
  },
  {
   "cell_type": "markdown",
   "id": "7bdfcf11-dd6a-440f-b0c9-58c0ead93296",
   "metadata": {
    "tags": []
   },
   "source": [
    "## Data Visualization"
   ]
  },
  {
   "cell_type": "code",
   "execution_count": 32,
   "id": "e4a9f62b-e05b-42b0-b85b-30576038bdf8",
   "metadata": {},
   "outputs": [],
   "source": [
    "import matplotlib.pyplot as plt\n",
    "import numpy as np"
   ]
  },
  {
   "cell_type": "markdown",
   "id": "57a2e13e-c836-4305-8a60-bd91a17f9f8d",
   "metadata": {
    "tags": []
   },
   "source": [
    "#### Total de voos por Mes - breakdown por `DELAY_RESULT`"
   ]
  },
  {
   "cell_type": "code",
   "execution_count": 33,
   "id": "eb6fdcb4-83b4-4c0c-b1bf-157598f44fc5",
   "metadata": {},
   "outputs": [
    {
     "data": {
      "image/png": "[encoded data removed]",
      "text/plain": [
       "<Figure size 1000x600 with 1 Axes>"
      ]
     },
     "metadata": {},
     "output_type": "display_data"
    }
   ],
   "source": [
    "# Agrupando as variaveis que serao utilizadas no grafico\n",
    "## Contando o total de voos por mes pela variavel explicada `DELAY_RESULT`\n",
    "count_by_month_delay = df.groupBy('FL_DATE_month', 'DELAY_RESULT').count().orderBy('FL_DATE_month')\n",
    "\n",
    "# Convert the result to a Pandas DataFrame for plotting\n",
    "count_by_month_delay_pd = count_by_month_delay.toPandas()\n",
    "\n",
    "# Pivotando o df para plotar no grafico\n",
    "pivot_table = count_by_month_delay_pd.pivot(index='FL_DATE_month', columns='DELAY_RESULT', values='count')\n",
    "\n",
    "# Definindo as categorias do eixo\n",
    "months = pivot_table.index\n",
    "delay_final_categories = pivot_table.columns\n",
    "\n",
    "# Setando a largura para cada barra\n",
    "total_bars = len(delay_final_categories)\n",
    "bar_width = 0.8 / total_bars\n",
    "bar_offset = np.arange(len(months)) - (total_bars - 1) * bar_width / 2\n",
    "\n",
    "# Setando as cores do grafico\n",
    "colors = ['steelblue', 'darkorange']\n",
    "\n",
    "# Plotando as barras lado a lado\n",
    "plt.figure(figsize=(10, 6))\n",
    "for i, category in enumerate(delay_final_categories):\n",
    "    plt.bar(bar_offset + i * bar_width, pivot_table[category], width=bar_width, label=category, color=colors[i])\n",
    "\n",
    "# Editando o grafico\n",
    "plt.xlabel('Month')\n",
    "plt.ylabel('Count')\n",
    "plt.title('Total Flights by Month with DELAY_RESULT')\n",
    "plt.xticks(range(len(months)), months)\n",
    "plt.legend(title='DELAY_RESULT')\n",
    "plt.show()\n",
    "\n"
   ]
  },
  {
   "cell_type": "markdown",
   "id": "4f811248-8b9b-48af-a2c5-619e315dc562",
   "metadata": {},
   "source": [
    "<br>"
   ]
  },
  {
   "cell_type": "markdown",
   "id": "d3c71843-9ece-4986-9a4f-24fd9e587b30",
   "metadata": {
    "tags": []
   },
   "source": [
    "#### Total de voos por Mês e `DELAY_RESULT`"
   ]
  },
  {
   "cell_type": "code",
   "execution_count": 34,
   "id": "86981ced-23bc-4722-853a-ed070f465e62",
   "metadata": {},
   "outputs": [
    {
     "data": {
      "image/png": "[encoded data removed]",
      "text/plain": [
       "<Figure size 1000x600 with 1 Axes>"
      ]
     },
     "metadata": {},
     "output_type": "display_data"
    }
   ],
   "source": [
    "import matplotlib.pyplot as plt\n",
    "import numpy as np\n",
    "\n",
    "# Group by FL_DATE_month and DELAY_FINAL, and count the number of flights\n",
    "count_by_month_delay = df.groupBy('FL_DATE_month', 'DELAY_RESULT').count().orderBy('FL_DATE_month')\n",
    "\n",
    "# Convert the result to a Pandas DataFrame for plotting\n",
    "count_by_month_delay_pd = count_by_month_delay.toPandas()\n",
    "\n",
    "# Pivot the DataFrame to reshape it for plotting\n",
    "pivot_table = count_by_month_delay_pd.pivot(index='FL_DATE_month', columns='DELAY_RESULT', values='count')\n",
    "\n",
    "# Get the months and DELAY_FINAL categories\n",
    "months = pivot_table.index\n",
    "delay_final_categories = pivot_table.columns\n",
    "\n",
    "# Set the width and offset for each bar\n",
    "total_bars = len(delay_final_categories)\n",
    "bar_width = 0.8 / total_bars\n",
    "bar_offset = np.arange(len(months)) - (total_bars - 1) * bar_width / 2\n",
    "\n",
    "# Create a color palette for the bars\n",
    "colors = ['steelblue', 'darkorange']\n",
    "\n",
    "# Plot the bars side by side\n",
    "plt.figure(figsize=(10, 6))\n",
    "for i, category in enumerate(delay_final_categories):\n",
    "    plt.bar(bar_offset + i * bar_width, pivot_table[category], width=bar_width, label=category, color=colors[i])\n",
    "\n",
    "# Calculate the total flights per month\n",
    "total_flights = pivot_table.sum(axis=1)\n",
    "\n",
    "# Plot a line for the total flights\n",
    "plt.plot(range(len(months)), total_flights, color='red', linestyle='--', linewidth=2, label='Total Flights')\n",
    "\n",
    "# Customize the plot\n",
    "plt.xlabel('Month')\n",
    "plt.ylabel('Count')\n",
    "plt.title('Total Flights by Month with DELAY_RESULT')\n",
    "plt.xticks(range(len(months)), months)\n",
    "plt.legend(title='DELAY_RESULT')\n",
    "plt.show()\n"
   ]
  },
  {
   "cell_type": "markdown",
   "id": "1eaceb7a-4781-4cc4-8cea-0433b030a8b9",
   "metadata": {
    "tags": []
   },
   "source": [
    "#### Total de voos por Companhia Aerea"
   ]
  },
  {
   "cell_type": "code",
   "execution_count": 35,
   "id": "480799fa-34de-487a-b117-65f861f5c056",
   "metadata": {},
   "outputs": [
    {
     "name": "stdout",
     "output_type": "stream",
     "text": [
      "+--------------------+-------+\n",
      "|        AIRLINE_NAME|  count|\n",
      "+--------------------+-------+\n",
      "|         US Airlines| 406227|\n",
      "|        Mesa Airline| 237814|\n",
      "|  Northwest Airlines| 290097|\n",
      "|     United Airlines| 369288|\n",
      "|   Hawaiian Airlines|  72538|\n",
      "|Continental Airlines| 254368|\n",
      "|          ExpressJet| 291560|\n",
      "|    SkyWest Airlines| 537420|\n",
      "|   Frontier Airlines|  86425|\n",
      "|        Endeavor Air| 256909|\n",
      "|   American Airlines| 539003|\n",
      "|     AirTran Airways| 247430|\n",
      "|     JetBlue Airways| 191043|\n",
      "|           Envoy Air| 423882|\n",
      "|      Delta Airlines| 420183|\n",
      "|        PSA Airlines| 145470|\n",
      "|     Alaska Airlines| 135533|\n",
      "|           JetsuiteX| 303147|\n",
      "|  Southwest Airlines|1118640|\n",
      "+--------------------+-------+\n",
      "\n",
      "+--------------------+------------+--------------+\n",
      "|        AIRLINE_NAME|flight_count|total_distance|\n",
      "+--------------------+------------+--------------+\n",
      "|  Southwest Airlines|     1118640|  7.15073082E8|\n",
      "|   American Airlines|      539003|  5.66806024E8|\n",
      "|    SkyWest Airlines|      537420|  2.39523985E8|\n",
      "|           Envoy Air|      423882|  1.77407049E8|\n",
      "|      Delta Airlines|      420183|  3.90097746E8|\n",
      "|         US Airlines|      406227|  3.48558391E8|\n",
      "|     United Airlines|      369288|  4.10143667E8|\n",
      "|           JetsuiteX|      303147|  1.71749618E8|\n",
      "|          ExpressJet|      291560|   1.1808467E8|\n",
      "|  Northwest Airlines|      290097|  2.54414641E8|\n",
      "|        Endeavor Air|      256909|  1.05784435E8|\n",
      "|Continental Airlines|      254368|  3.03014838E8|\n",
      "|     AirTran Airways|      247430|  1.82102312E8|\n",
      "|        Mesa Airline|      237814|   9.2902182E7|\n",
      "|     JetBlue Airways|      191043|  2.01812526E8|\n",
      "|        PSA Airlines|      145470|   7.0619117E7|\n",
      "|     Alaska Airlines|      135533|  1.38878183E8|\n",
      "|   Frontier Airlines|       86425|   7.4547916E7|\n",
      "|   Hawaiian Airlines|       72538|   3.6592593E7|\n",
      "+--------------------+------------+--------------+\n",
      "\n"
     ]
    }
   ],
   "source": [
    "df.groupBy('AIRLINE_NAME').count().show()\n",
    "\n",
    "# total de voos por companhia aerea\n",
    "total_carriers = df.groupBy(\"AIRLINE_NAME\").agg(count(\"*\").alias(\"flight_count\"))\n",
    "# Total distance per airline\n",
    "total_distance = df.groupBy(\"AIRLINE_NAME\").agg(sum(\"DISTANCE\").alias(\"total_distance\"))\n",
    "# Join the two aggregations on the \"AIRLINE_NAME\" column\n",
    "total_carriers = total_carriers.join(total_distance, \"AIRLINE_NAME\")\n",
    "# classifica do maior para o menor\n",
    "total_carriers = total_carriers.orderBy(col(\"flight_count\").desc())\n",
    "\n",
    "total_carriers.show()"
   ]
  },
  {
   "cell_type": "code",
   "execution_count": null,
   "id": "d3d9ec72-cbe2-4a7c-9f93-b711099845bf",
   "metadata": {},
   "outputs": [],
   "source": []
  },
  {
   "cell_type": "markdown",
   "id": "ed4d8cb9-d138-4a0c-9674-f26c264bc6cc",
   "metadata": {
    "tags": []
   },
   "source": [
    "#### Atrasos por Companhia Aerea"
   ]
  },
  {
   "cell_type": "code",
   "execution_count": 36,
   "id": "8f2b36aa-3b25-41d6-9f5c-91baf3bf8e49",
   "metadata": {},
   "outputs": [
    {
     "data": {
      "image/png": "[encoded data removed]",
      "text/plain": [
       "<Figure size 2000x600 with 1 Axes>"
      ]
     },
     "metadata": {},
     "output_type": "display_data"
    }
   ],
   "source": [
    "import pyspark.sql.functions as F\n",
    "import matplotlib.pyplot as plt\n",
    "\n",
    "# Group by AIRLINE_NAME and calculate the sum of ARR_DELAY\n",
    "delays_by_airline = df.filter(df.AIRLINE_NAME.isNotNull()).groupBy('AIRLINE_NAME').agg(F.sum('DELAY_BOOLEAN').alias('total_delays'))\n",
    "\n",
    "# Convert the grouped DataFrame to Pandas for plotting\n",
    "delays_by_airline_pd = delays_by_airline.toPandas()\n",
    "\n",
    "# Sort the DataFrame by Total_ARR_DELAY in descending order\n",
    "delays_by_airline_pd = delays_by_airline_pd.sort_values('total_delays', ascending=False)\n",
    "\n",
    "# Plotting\n",
    "plt.figure(figsize=(20, 6))\n",
    "plt.bar(delays_by_airline_pd['AIRLINE_NAME'], delays_by_airline_pd['total_delays'])\n",
    "plt.title('Delays by Airlines', fontsize=16)\n",
    "plt.xlabel('Airline', fontsize=14)\n",
    "plt.ylabel('Total Delay', fontsize=14)\n",
    "plt.xticks(rotation=45, ha='right')\n",
    "plt.show()\n"
   ]
  },
  {
   "cell_type": "code",
   "execution_count": null,
   "id": "5582f4d3-c583-425a-be0e-5f336902d43f",
   "metadata": {},
   "outputs": [],
   "source": []
  },
  {
   "cell_type": "markdown",
   "id": "3f5e2611-5061-4460-86d1-6e56c12ab0bd",
   "metadata": {
    "tags": []
   },
   "source": [
    "#### Media entre Partidas e Chegadas por mes. Qual mes tem mais impacto em atrasos?"
   ]
  },
  {
   "cell_type": "code",
   "execution_count": 72,
   "id": "8cf6e67a-96a4-4d5d-ae15-2dfd374b0dec",
   "metadata": {},
   "outputs": [
    {
     "data": {
      "image/png": "[encoded data removed]",
      "text/plain": [
       "<Figure size 1000x600 with 1 Axes>"
      ]
     },
     "metadata": {},
     "output_type": "display_data"
    },
    {
     "data": {
      "image/png": "[encoded data removed]",
      "text/plain": [
       "<Figure size 1000x600 with 1 Axes>"
      ]
     },
     "metadata": {},
     "output_type": "display_data"
    }
   ],
   "source": [
    "from pyspark.sql.functions import month\n",
    "import pyspark.sql.functions as F\n",
    "import matplotlib.pyplot as plt\n",
    "\n",
    "# Group by FL_DATE_month and calculate the mean of ARR_DELAY and DEP_DELAY\n",
    "arrival_delays = df.groupBy(month(\"FL_DATE\").alias(\"FL_DATE_month\")).agg(F.mean(\"ARR_DELAY\").alias(\"Media_ARR_DELAY\"))\n",
    "departure_delays = df.groupBy(month(\"FL_DATE\").alias(\"FL_DATE_month\")).agg(F.mean(\"DEP_DELAY\").alias(\"Media_DEP_DELAY\"))\n",
    "\n",
    "# Convert the grouped DataFrames to Pandas for plotting\n",
    "arrival_delays_pd = arrival_delays.orderBy(\"FL_DATE_month\").toPandas()\n",
    "departure_delays_pd = departure_delays.orderBy(\"FL_DATE_month\").toPandas()\n",
    "\n",
    "# Plotting\n",
    "arrival_delays_pd.plot.bar(x='FL_DATE_month', y='Media_ARR_DELAY', title='ARRIVAL atrasos por mes', figsize=(10, 6))\n",
    "departure_delays_pd.plot.bar(x='FL_DATE_month', y='Media_DEP_DELAY', title='DEPARTURE atrasos por mes', figsize=(10, 6))\n",
    "\n",
    "plt.show()\n"
   ]
  },
  {
   "cell_type": "markdown",
   "id": "3b3ad0c3-0e12-4c45-9a32-0b27560db064",
   "metadata": {},
   "source": [
    "> Observacoes\n",
    "\n",
    "* Indica maior tendencia de atrasos nos meses de Junho e Dezembro\n",
    "* Os meses de Setembro e Novembro indicam terem menos atrasos"
   ]
  },
  {
   "cell_type": "code",
   "execution_count": null,
   "id": "ab58d96e-6607-4c81-ac11-99186dc4ec6b",
   "metadata": {},
   "outputs": [],
   "source": []
  },
  {
   "cell_type": "code",
   "execution_count": 38,
   "id": "6ece6d6d-2952-4eb2-b915-191cfe6086e4",
   "metadata": {},
   "outputs": [
    {
     "name": "stdout",
     "output_type": "stream",
     "text": [
      "  summary OP_CARRIER  OP_CARRIER_FL_NUM   ORIGIN     DEST           DEP_DELAY  \\\n",
      "0   count    6326977            6326977  6326977  6326977             6326977   \n",
      "1    mean       None   2284.82700474492     None     None   7.547543953455181   \n",
      "2  stddev       None  2042.115815807968     None     None  31.627098428536616   \n",
      "3     min         9E                  1      ABE      ABE               -96.0   \n",
      "4     max         YV                999      YUM      YUM              2445.0   \n",
      "\n",
      "            ARR_DELAY CANCELLED           DISTANCE       FL_DATE_month  \\\n",
      "0             6326977   6326977            6326977             6326977   \n",
      "1   4.285590733141594       0.0  726.7472246224381   6.410141367670532   \n",
      "2  34.735266010978776       0.0  561.9949374350853  3.3315504238188716   \n",
      "3              -107.0       0.0               11.0                   1   \n",
      "4              2449.0       0.0             4962.0                  12   \n",
      "\n",
      "      AIRLINE_NAME     DELAY_CALCULATE DELAY_RESULT        DELAY_BOOLEAN  \n",
      "0          6326977             6326977      6326977              6326977  \n",
      "1             None  11.833134686596775         None  0.37942085137973475  \n",
      "2             None   65.02750534537692         None   0.4852429351710007  \n",
      "3  AirTran Airways                -203      DELAYED                    0  \n",
      "4  United Airlines                4894  NOT DELAYED                    1  \n"
     ]
    }
   ],
   "source": [
    "# Descrevendo o Dataframe para entender os principais indexadores de resultados\n",
    "\n",
    "description_df = df.describe()\n",
    "description_pandas_df = description_df.toPandas()\n",
    "\n",
    "print(description_pandas_df)"
   ]
  },
  {
   "cell_type": "code",
   "execution_count": 39,
   "id": "a35c74da-23c5-42e4-81e1-05e322b88ed5",
   "metadata": {},
   "outputs": [],
   "source": [
    "from pyspark.sql.functions import col\n",
    "median = df.approxQuantile('DELAY_CALCULATE', [0.5], 0.001)[0]"
   ]
  },
  {
   "cell_type": "code",
   "execution_count": 40,
   "id": "72b12fd6-6948-4eb5-8df6-5565154d1ceb",
   "metadata": {},
   "outputs": [
    {
     "name": "stdout",
     "output_type": "stream",
     "text": [
      "Median of DELAY CALCULATE: -6.0\n"
     ]
    }
   ],
   "source": [
    "print(\"Median of DELAY CALCULATE:\", median)"
   ]
  },
  {
   "cell_type": "markdown",
   "id": "e1b3502c-7188-4f64-966d-87fecb0f01a0",
   "metadata": {},
   "source": [
    "<br>"
   ]
  },
  {
   "cell_type": "markdown",
   "id": "504b4d1d-f25a-4e4f-9ba7-e79c768b9716",
   "metadata": {},
   "source": [
    "> Alguns insights\n",
    "\n",
    "* A media de `ARR_DELAY` e de apenas 4 minutos de atraso.\n",
    "* Possivel analisar tambem que a mediana da nossa variavel explicada `DELAY_CALCULATE` é de  -6 minutos, isso significa que a maioria dos voos chegam antes que o planejado ou acabam compensando algum tipo de atraso na partida."
   ]
  },
  {
   "cell_type": "markdown",
   "id": "69ac7491-a5db-413f-af19-197aef0e4888",
   "metadata": {},
   "source": [
    "<br>"
   ]
  },
  {
   "cell_type": "markdown",
   "id": "c8292668-1feb-4510-b7b3-bbff86557686",
   "metadata": {},
   "source": [
    "<br>"
   ]
  },
  {
   "cell_type": "markdown",
   "id": "eb17bd60-4d9a-4dfb-a4bf-a68765928dbe",
   "metadata": {
    "tags": []
   },
   "source": [
    "## Regressão Linear"
   ]
  },
  {
   "cell_type": "code",
   "execution_count": 41,
   "id": "3a716322-8ee9-4611-b999-29671dd05de7",
   "metadata": {},
   "outputs": [],
   "source": [
    "df_regression = df.drop(\"OP_CARRIER\", \"DELAY_BOOLEAN\")"
   ]
  },
  {
   "cell_type": "code",
   "execution_count": 42,
   "id": "ec7ea728-7082-4de0-80bf-e4bceded7760",
   "metadata": {},
   "outputs": [
    {
     "data": {
      "text/html": [
       "<div>\n",
       "<style scoped>\n",
       "    .dataframe tbody tr th:only-of-type {\n",
       "        vertical-align: middle;\n",
       "    }\n",
       "\n",
       "    .dataframe tbody tr th {\n",
       "        vertical-align: top;\n",
       "    }\n",
       "\n",
       "    .dataframe thead th {\n",
       "        text-align: right;\n",
       "    }\n",
       "</style>\n",
       "<table border=\"1\" class=\"dataframe\">\n",
       "  <thead>\n",
       "    <tr style=\"text-align: right;\">\n",
       "      <th></th>\n",
       "      <th>FL_DATE</th>\n",
       "      <th>OP_CARRIER_FL_NUM</th>\n",
       "      <th>ORIGIN</th>\n",
       "      <th>DEST</th>\n",
       "      <th>DEP_DELAY</th>\n",
       "      <th>ARR_DELAY</th>\n",
       "      <th>CANCELLED</th>\n",
       "      <th>DISTANCE</th>\n",
       "      <th>FL_DATE_month</th>\n",
       "      <th>AIRLINE_NAME</th>\n",
       "      <th>DELAY_CALCULATE</th>\n",
       "      <th>DELAY_RESULT</th>\n",
       "    </tr>\n",
       "  </thead>\n",
       "  <tbody>\n",
       "    <tr>\n",
       "      <th>0</th>\n",
       "      <td>2009-01-01</td>\n",
       "      <td>1204</td>\n",
       "      <td>DCA</td>\n",
       "      <td>EWR</td>\n",
       "      <td>-2.0</td>\n",
       "      <td>4.0</td>\n",
       "      <td>0.0</td>\n",
       "      <td>199.0</td>\n",
       "      <td>1</td>\n",
       "      <td>JetsuiteX</td>\n",
       "      <td>2</td>\n",
       "      <td>DELAYED</td>\n",
       "    </tr>\n",
       "    <tr>\n",
       "      <th>1</th>\n",
       "      <td>2009-01-01</td>\n",
       "      <td>1206</td>\n",
       "      <td>EWR</td>\n",
       "      <td>IAD</td>\n",
       "      <td>-1.0</td>\n",
       "      <td>-8.0</td>\n",
       "      <td>0.0</td>\n",
       "      <td>213.0</td>\n",
       "      <td>1</td>\n",
       "      <td>JetsuiteX</td>\n",
       "      <td>-9</td>\n",
       "      <td>NOT DELAYED</td>\n",
       "    </tr>\n",
       "    <tr>\n",
       "      <th>2</th>\n",
       "      <td>2009-01-01</td>\n",
       "      <td>1207</td>\n",
       "      <td>EWR</td>\n",
       "      <td>DCA</td>\n",
       "      <td>-1.0</td>\n",
       "      <td>-9.0</td>\n",
       "      <td>0.0</td>\n",
       "      <td>199.0</td>\n",
       "      <td>1</td>\n",
       "      <td>JetsuiteX</td>\n",
       "      <td>-10</td>\n",
       "      <td>NOT DELAYED</td>\n",
       "    </tr>\n",
       "    <tr>\n",
       "      <th>3</th>\n",
       "      <td>2009-01-01</td>\n",
       "      <td>1208</td>\n",
       "      <td>DCA</td>\n",
       "      <td>EWR</td>\n",
       "      <td>9.0</td>\n",
       "      <td>-12.0</td>\n",
       "      <td>0.0</td>\n",
       "      <td>199.0</td>\n",
       "      <td>1</td>\n",
       "      <td>JetsuiteX</td>\n",
       "      <td>-3</td>\n",
       "      <td>NOT DELAYED</td>\n",
       "    </tr>\n",
       "    <tr>\n",
       "      <th>4</th>\n",
       "      <td>2009-01-01</td>\n",
       "      <td>1209</td>\n",
       "      <td>IAD</td>\n",
       "      <td>EWR</td>\n",
       "      <td>-10.0</td>\n",
       "      <td>-38.0</td>\n",
       "      <td>0.0</td>\n",
       "      <td>213.0</td>\n",
       "      <td>1</td>\n",
       "      <td>JetsuiteX</td>\n",
       "      <td>-48</td>\n",
       "      <td>NOT DELAYED</td>\n",
       "    </tr>\n",
       "    <tr>\n",
       "      <th>5</th>\n",
       "      <td>2009-01-01</td>\n",
       "      <td>1212</td>\n",
       "      <td>ATL</td>\n",
       "      <td>EWR</td>\n",
       "      <td>-2.0</td>\n",
       "      <td>-19.0</td>\n",
       "      <td>0.0</td>\n",
       "      <td>745.0</td>\n",
       "      <td>1</td>\n",
       "      <td>JetsuiteX</td>\n",
       "      <td>-21</td>\n",
       "      <td>NOT DELAYED</td>\n",
       "    </tr>\n",
       "    <tr>\n",
       "      <th>6</th>\n",
       "      <td>2009-01-01</td>\n",
       "      <td>1212</td>\n",
       "      <td>CLE</td>\n",
       "      <td>ATL</td>\n",
       "      <td>-8.0</td>\n",
       "      <td>-17.0</td>\n",
       "      <td>0.0</td>\n",
       "      <td>554.0</td>\n",
       "      <td>1</td>\n",
       "      <td>JetsuiteX</td>\n",
       "      <td>-25</td>\n",
       "      <td>NOT DELAYED</td>\n",
       "    </tr>\n",
       "    <tr>\n",
       "      <th>7</th>\n",
       "      <td>2009-01-01</td>\n",
       "      <td>1214</td>\n",
       "      <td>DCA</td>\n",
       "      <td>EWR</td>\n",
       "      <td>-7.0</td>\n",
       "      <td>-8.0</td>\n",
       "      <td>0.0</td>\n",
       "      <td>199.0</td>\n",
       "      <td>1</td>\n",
       "      <td>JetsuiteX</td>\n",
       "      <td>-15</td>\n",
       "      <td>NOT DELAYED</td>\n",
       "    </tr>\n",
       "    <tr>\n",
       "      <th>8</th>\n",
       "      <td>2009-01-01</td>\n",
       "      <td>1215</td>\n",
       "      <td>EWR</td>\n",
       "      <td>DCA</td>\n",
       "      <td>-5.0</td>\n",
       "      <td>-15.0</td>\n",
       "      <td>0.0</td>\n",
       "      <td>199.0</td>\n",
       "      <td>1</td>\n",
       "      <td>JetsuiteX</td>\n",
       "      <td>-20</td>\n",
       "      <td>NOT DELAYED</td>\n",
       "    </tr>\n",
       "    <tr>\n",
       "      <th>9</th>\n",
       "      <td>2009-01-01</td>\n",
       "      <td>1217</td>\n",
       "      <td>EWR</td>\n",
       "      <td>DCA</td>\n",
       "      <td>-5.0</td>\n",
       "      <td>-12.0</td>\n",
       "      <td>0.0</td>\n",
       "      <td>199.0</td>\n",
       "      <td>1</td>\n",
       "      <td>JetsuiteX</td>\n",
       "      <td>-17</td>\n",
       "      <td>NOT DELAYED</td>\n",
       "    </tr>\n",
       "  </tbody>\n",
       "</table>\n",
       "</div>"
      ],
      "text/plain": [
       "      FL_DATE OP_CARRIER_FL_NUM ORIGIN DEST  DEP_DELAY  ARR_DELAY  CANCELLED  \\\n",
       "0  2009-01-01              1204    DCA  EWR       -2.0        4.0        0.0   \n",
       "1  2009-01-01              1206    EWR  IAD       -1.0       -8.0        0.0   \n",
       "2  2009-01-01              1207    EWR  DCA       -1.0       -9.0        0.0   \n",
       "3  2009-01-01              1208    DCA  EWR        9.0      -12.0        0.0   \n",
       "4  2009-01-01              1209    IAD  EWR      -10.0      -38.0        0.0   \n",
       "5  2009-01-01              1212    ATL  EWR       -2.0      -19.0        0.0   \n",
       "6  2009-01-01              1212    CLE  ATL       -8.0      -17.0        0.0   \n",
       "7  2009-01-01              1214    DCA  EWR       -7.0       -8.0        0.0   \n",
       "8  2009-01-01              1215    EWR  DCA       -5.0      -15.0        0.0   \n",
       "9  2009-01-01              1217    EWR  DCA       -5.0      -12.0        0.0   \n",
       "\n",
       "   DISTANCE  FL_DATE_month AIRLINE_NAME  DELAY_CALCULATE DELAY_RESULT  \n",
       "0     199.0              1    JetsuiteX                2      DELAYED  \n",
       "1     213.0              1    JetsuiteX               -9  NOT DELAYED  \n",
       "2     199.0              1    JetsuiteX              -10  NOT DELAYED  \n",
       "3     199.0              1    JetsuiteX               -3  NOT DELAYED  \n",
       "4     213.0              1    JetsuiteX              -48  NOT DELAYED  \n",
       "5     745.0              1    JetsuiteX              -21  NOT DELAYED  \n",
       "6     554.0              1    JetsuiteX              -25  NOT DELAYED  \n",
       "7     199.0              1    JetsuiteX              -15  NOT DELAYED  \n",
       "8     199.0              1    JetsuiteX              -20  NOT DELAYED  \n",
       "9     199.0              1    JetsuiteX              -17  NOT DELAYED  "
      ]
     },
     "execution_count": 42,
     "metadata": {},
     "output_type": "execute_result"
    }
   ],
   "source": [
    "df_regression.limit(10).toPandas()"
   ]
  },
  {
   "cell_type": "code",
   "execution_count": 43,
   "id": "b23a4bd7-177a-4731-91dc-5b6d845bf322",
   "metadata": {},
   "outputs": [
    {
     "data": {
      "text/plain": [
       "StructType([StructField('FL_DATE', DateType(), True), StructField('OP_CARRIER_FL_NUM', StringType(), True), StructField('ORIGIN', StringType(), True), StructField('DEST', StringType(), True), StructField('DEP_DELAY', DoubleType(), True), StructField('ARR_DELAY', DoubleType(), True), StructField('CANCELLED', DoubleType(), True), StructField('DISTANCE', DoubleType(), True), StructField('FL_DATE_month', IntegerType(), True), StructField('AIRLINE_NAME', StringType(), True), StructField('DELAY_CALCULATE', IntegerType(), True), StructField('DELAY_RESULT', StringType(), False)])"
      ]
     },
     "execution_count": 43,
     "metadata": {},
     "output_type": "execute_result"
    }
   ],
   "source": [
    "df_regression.schema"
   ]
  },
  {
   "cell_type": "markdown",
   "id": "e065ac22-da15-45df-a08e-73d7f0d8f77f",
   "metadata": {
    "tags": []
   },
   "source": [
    "### Train/Test Split"
   ]
  },
  {
   "cell_type": "code",
   "execution_count": 44,
   "id": "a957a101-fb78-4eb7-9697-a1908d129045",
   "metadata": {},
   "outputs": [],
   "source": [
    "train_df, test_df = df_regression.randomSplit( [0.8, 0.2], seed=42) #80% de treino e 20% de teste\n",
    "toy_df = test_df.sample(False, 0.01, seed=42) # 3 amostragem para validação cruzada / para rodar rapidamente"
   ]
  },
  {
   "cell_type": "code",
   "execution_count": 45,
   "id": "04a5ca29-b6d0-43af-8c4e-2fc72315a24d",
   "metadata": {},
   "outputs": [
    {
     "name": "stdout",
     "output_type": "stream",
     "text": [
      "Train set count:  5060662\n",
      "Test set count:  1266315\n",
      "Toy set count:  12762\n"
     ]
    }
   ],
   "source": [
    "print(\"Train set count: \", train_df.count())\n",
    "print(\"Test set count: \", test_df.count())\n",
    "print(\"Toy set count: \", toy_df.count())"
   ]
  },
  {
   "cell_type": "markdown",
   "id": "0d6855a6-9a67-47e9-ba21-8e58adc2dc87",
   "metadata": {
    "tags": []
   },
   "source": [
    "### Import"
   ]
  },
  {
   "cell_type": "code",
   "execution_count": 46,
   "id": "8faaee8d-2b97-4a5e-a6a9-7e888a0bbc79",
   "metadata": {},
   "outputs": [],
   "source": [
    "from pyspark.ml.feature import StringIndexer, OneHotEncoder, VectorAssembler, VectorSlicer\n",
    "from pyspark.ml.regression import LinearRegression\n",
    "from pyspark.ml import Pipeline\n",
    "from pyspark.ml.feature import StandardScaler"
   ]
  },
  {
   "cell_type": "markdown",
   "id": "c71d0dc1-36e1-4349-a0c8-a0b4ccb08e6f",
   "metadata": {
    "tags": []
   },
   "source": [
    "### Feature engineering: One-Hot Encoding"
   ]
  },
  {
   "cell_type": "code",
   "execution_count": 47,
   "id": "29cc78d1-7dff-4a1c-bb80-f536a17e36d8",
   "metadata": {},
   "outputs": [],
   "source": [
    "cat_feats = [\"ORIGIN\", \"DEST\", \"AIRLINE_NAME\", \"DELAY_RESULT\", \"OP_CARRIER_FL_NUM\"]\n",
    "num_feats = [\"DELAY_CALCULATE\", \"CANCELLED\", \"DISTANCE\"] #rodei aqui pois não era necessário para esse caso uma normalização\n",
    "\n",
    "indexOutputCols = [x + \"Index\" for x in cat_feats]\n",
    "oheOutputCols = [x + \"OHE\" for x in cat_feats]"
   ]
  },
  {
   "cell_type": "code",
   "execution_count": 48,
   "id": "9fe16c41-fba0-4990-aa70-2bb01f7d0127",
   "metadata": {},
   "outputs": [],
   "source": [
    "stringIndexer = StringIndexer(inputCols=cat_feats, outputCols=indexOutputCols, handleInvalid=\"skip\")\n",
    "oheEncoder = OneHotEncoder(inputCols=indexOutputCols, outputCols=oheOutputCols)"
   ]
  },
  {
   "cell_type": "markdown",
   "id": "18a867c3-07bd-461a-aff6-9daf03aefb5e",
   "metadata": {
    "tags": []
   },
   "source": [
    "### Feature Engineering: Feature normalization"
   ]
  },
  {
   "cell_type": "code",
   "execution_count": 49,
   "id": "69071c34-166e-4d27-aad6-97d628cbca73",
   "metadata": {},
   "outputs": [],
   "source": [
    "# num_feats = [\"DELAY_CALCULATE\", \"CANCELLED\", \"DISTANCE\"]  # caso precise normalizar\n",
    "numVecAssembler = VectorAssembler(inputCols=num_feats, outputCol=\"num_features\")\n",
    "stdScaler = StandardScaler(inputCol=\"num_features\", outputCol=\"scaled_num_features\")"
   ]
  },
  {
   "cell_type": "markdown",
   "id": "0e44277d-4af1-445e-85b2-43ff3e82aa8c",
   "metadata": {
    "tags": []
   },
   "source": [
    "### Assembling dos Vetores"
   ]
  },
  {
   "cell_type": "code",
   "execution_count": 50,
   "id": "02a428de-0d6c-4cce-9b86-efc6c38a402b",
   "metadata": {},
   "outputs": [],
   "source": [
    "assemblerInputs = oheOutputCols + [\"scaled_num_features\"]\n",
    "\n",
    "vecAssembler = VectorAssembler(inputCols=assemblerInputs, outputCol=\"features_vector\")\n",
    "\n",
    "vectorSlicer = VectorSlicer(inputCol=\"features_vector\", outputCol=\"selected_features\", indices=[0, 1, 2, 3])\n",
    "\n",
    "stages = [stringIndexer, oheEncoder, numVecAssembler, stdScaler, vecAssembler, vectorSlicer]\n",
    "\n",
    "transform_pipeline = Pipeline(stages=stages)\n",
    "fitted_transformer = transform_pipeline.fit(train_df)\n",
    "transformed_train_df = fitted_transformer.transform(train_df)"
   ]
  },
  {
   "cell_type": "markdown",
   "id": "66c966c7-add3-4dd8-9aa7-dfb2b19b1732",
   "metadata": {
    "tags": []
   },
   "source": [
    "### Criação do Pipeline"
   ]
  },
  {
   "cell_type": "code",
   "execution_count": 51,
   "id": "02b92f89-8350-41fe-b987-8bfa4bc1a206",
   "metadata": {},
   "outputs": [],
   "source": [
    "model = LinearRegression(\n",
    "    maxIter=50,\n",
    "    solver=\"normal\",\n",
    "    labelCol=\"DELAY_CALCULATE\",\n",
    "    featuresCol=\"selected_features\",\n",
    "    elasticNetParam=0.2,\n",
    "    regParam=0.02\n",
    ")\n",
    "\n",
    "pipe_stages = stages + [model]\n",
    "pipe = Pipeline(stages=pipe_stages)"
   ]
  },
  {
   "cell_type": "markdown",
   "id": "9f2f7bdd-f0be-4ebe-8d22-de7904645b62",
   "metadata": {
    "tags": []
   },
   "source": [
    "### Model Training"
   ]
  },
  {
   "cell_type": "code",
   "execution_count": 52,
   "id": "00256f49-0688-458f-b1d7-2dc4c4a6c67b",
   "metadata": {},
   "outputs": [],
   "source": [
    "fitted_pipe = pipe.fit(train_df)"
   ]
  },
  {
   "cell_type": "markdown",
   "id": "fc4cede7-4ba8-4a82-81f5-7ef02fe62a06",
   "metadata": {
    "tags": []
   },
   "source": [
    "### Model performance evaluation"
   ]
  },
  {
   "cell_type": "code",
   "execution_count": 53,
   "id": "6e5259de-8c1f-4b28-99b5-787e76edef04",
   "metadata": {},
   "outputs": [],
   "source": [
    "preds = fitted_pipe.transform(test_df)"
   ]
  },
  {
   "cell_type": "code",
   "execution_count": 54,
   "id": "c79d2108-697c-4a43-84a0-f31690a6c816",
   "metadata": {},
   "outputs": [
    {
     "data": {
      "text/html": [
       "<div>\n",
       "<style scoped>\n",
       "    .dataframe tbody tr th:only-of-type {\n",
       "        vertical-align: middle;\n",
       "    }\n",
       "\n",
       "    .dataframe tbody tr th {\n",
       "        vertical-align: top;\n",
       "    }\n",
       "\n",
       "    .dataframe thead th {\n",
       "        text-align: right;\n",
       "    }\n",
       "</style>\n",
       "<table border=\"1\" class=\"dataframe\">\n",
       "  <thead>\n",
       "    <tr style=\"text-align: right;\">\n",
       "      <th></th>\n",
       "      <th>FL_DATE</th>\n",
       "      <th>OP_CARRIER_FL_NUM</th>\n",
       "      <th>ORIGIN</th>\n",
       "      <th>DEST</th>\n",
       "      <th>DEP_DELAY</th>\n",
       "      <th>ARR_DELAY</th>\n",
       "      <th>CANCELLED</th>\n",
       "      <th>DISTANCE</th>\n",
       "      <th>FL_DATE_month</th>\n",
       "      <th>AIRLINE_NAME</th>\n",
       "      <th>...</th>\n",
       "      <th>ORIGINOHE</th>\n",
       "      <th>DESTOHE</th>\n",
       "      <th>AIRLINE_NAMEOHE</th>\n",
       "      <th>DELAY_RESULTOHE</th>\n",
       "      <th>OP_CARRIER_FL_NUMOHE</th>\n",
       "      <th>num_features</th>\n",
       "      <th>scaled_num_features</th>\n",
       "      <th>features_vector</th>\n",
       "      <th>selected_features</th>\n",
       "      <th>prediction</th>\n",
       "    </tr>\n",
       "  </thead>\n",
       "  <tbody>\n",
       "    <tr>\n",
       "      <th>0</th>\n",
       "      <td>2009-01-01</td>\n",
       "      <td>1</td>\n",
       "      <td>DAL</td>\n",
       "      <td>HOU</td>\n",
       "      <td>-1.0</td>\n",
       "      <td>-7.0</td>\n",
       "      <td>0.0</td>\n",
       "      <td>239.0</td>\n",
       "      <td>1</td>\n",
       "      <td>Southwest Airlines</td>\n",
       "      <td>...</td>\n",
       "      <td>(0.0, 0.0, 0.0, 0.0, 0.0, 0.0, 0.0, 0.0, 0.0, ...</td>\n",
       "      <td>(0.0, 0.0, 0.0, 0.0, 0.0, 0.0, 0.0, 0.0, 0.0, ...</td>\n",
       "      <td>(1.0, 0.0, 0.0, 0.0, 0.0, 0.0, 0.0, 0.0, 0.0, ...</td>\n",
       "      <td>(1.0)</td>\n",
       "      <td>(0.0, 0.0, 0.0, 0.0, 0.0, 0.0, 0.0, 0.0, 0.0, ...</td>\n",
       "      <td>[-8.0, 0.0, 239.0]</td>\n",
       "      <td>[-0.12307624307954812, 0.0, 0.4249760514566797]</td>\n",
       "      <td>(0.0, 0.0, 0.0, 0.0, 0.0, 0.0, 0.0, 0.0, 0.0, ...</td>\n",
       "      <td>(0.0, 0.0, 0.0, 0.0)</td>\n",
       "      <td>10.534555</td>\n",
       "    </tr>\n",
       "    <tr>\n",
       "      <th>1</th>\n",
       "      <td>2009-01-01</td>\n",
       "      <td>1</td>\n",
       "      <td>JFK</td>\n",
       "      <td>FLL</td>\n",
       "      <td>243.0</td>\n",
       "      <td>241.0</td>\n",
       "      <td>0.0</td>\n",
       "      <td>1069.0</td>\n",
       "      <td>1</td>\n",
       "      <td>JetBlue Airways</td>\n",
       "      <td>...</td>\n",
       "      <td>(0.0, 0.0, 0.0, 0.0, 0.0, 0.0, 0.0, 0.0, 0.0, ...</td>\n",
       "      <td>(0.0, 0.0, 0.0, 0.0, 0.0, 0.0, 0.0, 0.0, 0.0, ...</td>\n",
       "      <td>(0.0, 0.0, 0.0, 0.0, 0.0, 0.0, 0.0, 0.0, 0.0, ...</td>\n",
       "      <td>(0.0)</td>\n",
       "      <td>(0.0, 0.0, 0.0, 0.0, 0.0, 0.0, 0.0, 0.0, 0.0, ...</td>\n",
       "      <td>[484.0, 0.0, 1069.0]</td>\n",
       "      <td>[7.446112706312661, 0.0, 1.900834305469417]</td>\n",
       "      <td>(0.0, 0.0, 0.0, 0.0, 0.0, 0.0, 0.0, 0.0, 0.0, ...</td>\n",
       "      <td>(0.0, 0.0, 0.0, 0.0)</td>\n",
       "      <td>10.534555</td>\n",
       "    </tr>\n",
       "    <tr>\n",
       "      <th>2</th>\n",
       "      <td>2009-01-01</td>\n",
       "      <td>1</td>\n",
       "      <td>LAX</td>\n",
       "      <td>HNL</td>\n",
       "      <td>-4.0</td>\n",
       "      <td>-23.0</td>\n",
       "      <td>0.0</td>\n",
       "      <td>2556.0</td>\n",
       "      <td>1</td>\n",
       "      <td>Hawaiian Airlines</td>\n",
       "      <td>...</td>\n",
       "      <td>(0.0, 0.0, 0.0, 0.0, 1.0, 0.0, 0.0, 0.0, 0.0, ...</td>\n",
       "      <td>(0.0, 0.0, 0.0, 0.0, 0.0, 0.0, 0.0, 0.0, 0.0, ...</td>\n",
       "      <td>(0.0, 0.0, 0.0, 0.0, 0.0, 0.0, 0.0, 0.0, 0.0, ...</td>\n",
       "      <td>(1.0)</td>\n",
       "      <td>(0.0, 0.0, 0.0, 0.0, 0.0, 0.0, 0.0, 0.0, 0.0, ...</td>\n",
       "      <td>[-27.0, 0.0, 2556.0]</td>\n",
       "      <td>[-0.4153823203934749, 0.0, 4.544932165369345]</td>\n",
       "      <td>(0.0, 0.0, 0.0, 0.0, 1.0, 0.0, 0.0, 0.0, 0.0, ...</td>\n",
       "      <td>(0.0, 0.0, 0.0, 0.0)</td>\n",
       "      <td>10.534555</td>\n",
       "    </tr>\n",
       "    <tr>\n",
       "      <th>3</th>\n",
       "      <td>2009-01-01</td>\n",
       "      <td>10</td>\n",
       "      <td>JFK</td>\n",
       "      <td>BUF</td>\n",
       "      <td>-2.0</td>\n",
       "      <td>-29.0</td>\n",
       "      <td>0.0</td>\n",
       "      <td>301.0</td>\n",
       "      <td>1</td>\n",
       "      <td>JetBlue Airways</td>\n",
       "      <td>...</td>\n",
       "      <td>(0.0, 0.0, 0.0, 0.0, 0.0, 0.0, 0.0, 0.0, 0.0, ...</td>\n",
       "      <td>(0.0, 0.0, 0.0, 0.0, 0.0, 0.0, 0.0, 0.0, 0.0, ...</td>\n",
       "      <td>(0.0, 0.0, 0.0, 0.0, 0.0, 0.0, 0.0, 0.0, 0.0, ...</td>\n",
       "      <td>(1.0)</td>\n",
       "      <td>(0.0, 0.0, 0.0, 0.0, 0.0, 0.0, 0.0, 0.0, 0.0, ...</td>\n",
       "      <td>[-31.0, 0.0, 301.0]</td>\n",
       "      <td>[-0.47692044193324895, 0.0, 0.5352208848889565]</td>\n",
       "      <td>(0.0, 0.0, 0.0, 0.0, 0.0, 0.0, 0.0, 0.0, 0.0, ...</td>\n",
       "      <td>(0.0, 0.0, 0.0, 0.0)</td>\n",
       "      <td>10.534555</td>\n",
       "    </tr>\n",
       "    <tr>\n",
       "      <th>4</th>\n",
       "      <td>2009-01-01</td>\n",
       "      <td>100</td>\n",
       "      <td>DFW</td>\n",
       "      <td>ATL</td>\n",
       "      <td>-4.0</td>\n",
       "      <td>-8.0</td>\n",
       "      <td>0.0</td>\n",
       "      <td>732.0</td>\n",
       "      <td>1</td>\n",
       "      <td>AirTran Airways</td>\n",
       "      <td>...</td>\n",
       "      <td>(0.0, 0.0, 1.0, 0.0, 0.0, 0.0, 0.0, 0.0, 0.0, ...</td>\n",
       "      <td>(1.0, 0.0, 0.0, 0.0, 0.0, 0.0, 0.0, 0.0, 0.0, ...</td>\n",
       "      <td>(0.0, 0.0, 0.0, 0.0, 0.0, 0.0, 0.0, 0.0, 0.0, ...</td>\n",
       "      <td>(1.0)</td>\n",
       "      <td>(0.0, 0.0, 0.0, 0.0, 0.0, 0.0, 0.0, 0.0, 0.0, ...</td>\n",
       "      <td>[-12.0, 0.0, 732.0]</td>\n",
       "      <td>[-0.18461436461932218, 0.0, 1.3016002914907514]</td>\n",
       "      <td>(0.0, 0.0, 1.0, 0.0, 0.0, 0.0, 0.0, 0.0, 0.0, ...</td>\n",
       "      <td>(0.0, 0.0, 1.0, 0.0)</td>\n",
       "      <td>19.434174</td>\n",
       "    </tr>\n",
       "    <tr>\n",
       "      <th>5</th>\n",
       "      <td>2009-01-01</td>\n",
       "      <td>1001</td>\n",
       "      <td>DFW</td>\n",
       "      <td>PHX</td>\n",
       "      <td>-5.0</td>\n",
       "      <td>-30.0</td>\n",
       "      <td>0.0</td>\n",
       "      <td>868.0</td>\n",
       "      <td>1</td>\n",
       "      <td>American Airlines</td>\n",
       "      <td>...</td>\n",
       "      <td>(0.0, 0.0, 1.0, 0.0, 0.0, 0.0, 0.0, 0.0, 0.0, ...</td>\n",
       "      <td>(0.0, 0.0, 0.0, 0.0, 0.0, 1.0, 0.0, 0.0, 0.0, ...</td>\n",
       "      <td>(0.0, 1.0, 0.0, 0.0, 0.0, 0.0, 0.0, 0.0, 0.0, ...</td>\n",
       "      <td>(1.0)</td>\n",
       "      <td>(0.0, 0.0, 0.0, 0.0, 0.0, 0.0, 0.0, 0.0, 0.0, ...</td>\n",
       "      <td>[-35.0, 0.0, 868.0]</td>\n",
       "      <td>[-0.538458563473023, 0.0, 1.5434276680518746]</td>\n",
       "      <td>(0.0, 0.0, 1.0, 0.0, 0.0, 0.0, 0.0, 0.0, 0.0, ...</td>\n",
       "      <td>(0.0, 0.0, 1.0, 0.0)</td>\n",
       "      <td>19.434174</td>\n",
       "    </tr>\n",
       "    <tr>\n",
       "      <th>6</th>\n",
       "      <td>2009-01-01</td>\n",
       "      <td>1001</td>\n",
       "      <td>PIT</td>\n",
       "      <td>LAS</td>\n",
       "      <td>0.0</td>\n",
       "      <td>-2.0</td>\n",
       "      <td>0.0</td>\n",
       "      <td>1910.0</td>\n",
       "      <td>1</td>\n",
       "      <td>Southwest Airlines</td>\n",
       "      <td>...</td>\n",
       "      <td>(0.0, 0.0, 0.0, 0.0, 0.0, 0.0, 0.0, 0.0, 0.0, ...</td>\n",
       "      <td>(0.0, 0.0, 0.0, 0.0, 0.0, 0.0, 0.0, 1.0, 0.0, ...</td>\n",
       "      <td>(1.0, 0.0, 0.0, 0.0, 0.0, 0.0, 0.0, 0.0, 0.0, ...</td>\n",
       "      <td>(1.0)</td>\n",
       "      <td>(0.0, 0.0, 0.0, 0.0, 0.0, 0.0, 0.0, 0.0, 0.0, ...</td>\n",
       "      <td>[-2.0, 0.0, 1910.0]</td>\n",
       "      <td>[-0.03076906076988703, 0.0, 3.3962521267040096]</td>\n",
       "      <td>(0.0, 0.0, 0.0, 0.0, 0.0, 0.0, 0.0, 0.0, 0.0, ...</td>\n",
       "      <td>(0.0, 0.0, 0.0, 0.0)</td>\n",
       "      <td>10.534555</td>\n",
       "    </tr>\n",
       "    <tr>\n",
       "      <th>7</th>\n",
       "      <td>2009-01-01</td>\n",
       "      <td>1002</td>\n",
       "      <td>EWR</td>\n",
       "      <td>LAX</td>\n",
       "      <td>42.0</td>\n",
       "      <td>29.0</td>\n",
       "      <td>0.0</td>\n",
       "      <td>2454.0</td>\n",
       "      <td>1</td>\n",
       "      <td>Continental Airlines</td>\n",
       "      <td>...</td>\n",
       "      <td>(0.0, 0.0, 0.0, 0.0, 0.0, 0.0, 0.0, 0.0, 0.0, ...</td>\n",
       "      <td>(0.0, 0.0, 0.0, 0.0, 1.0, 0.0, 0.0, 0.0, 0.0, ...</td>\n",
       "      <td>(0.0, 0.0, 0.0, 0.0, 0.0, 0.0, 0.0, 0.0, 0.0, ...</td>\n",
       "      <td>(0.0)</td>\n",
       "      <td>(0.0, 0.0, 0.0, 0.0, 0.0, 0.0, 0.0, 0.0, 0.0, ...</td>\n",
       "      <td>[71.0, 0.0, 2454.0]</td>\n",
       "      <td>[1.0923016573309896, 0.0, 4.363561632948502]</td>\n",
       "      <td>(0.0, 0.0, 0.0, 0.0, 0.0, 0.0, 0.0, 0.0, 0.0, ...</td>\n",
       "      <td>(0.0, 0.0, 0.0, 0.0)</td>\n",
       "      <td>10.534555</td>\n",
       "    </tr>\n",
       "    <tr>\n",
       "      <th>8</th>\n",
       "      <td>2009-01-01</td>\n",
       "      <td>1003</td>\n",
       "      <td>DTW</td>\n",
       "      <td>IND</td>\n",
       "      <td>5.0</td>\n",
       "      <td>-4.0</td>\n",
       "      <td>0.0</td>\n",
       "      <td>231.0</td>\n",
       "      <td>1</td>\n",
       "      <td>Northwest Airlines</td>\n",
       "      <td>...</td>\n",
       "      <td>(0.0, 0.0, 0.0, 0.0, 0.0, 0.0, 0.0, 0.0, 1.0, ...</td>\n",
       "      <td>(0.0, 0.0, 0.0, 0.0, 0.0, 0.0, 0.0, 0.0, 0.0, ...</td>\n",
       "      <td>(0.0, 0.0, 0.0, 0.0, 0.0, 0.0, 0.0, 0.0, 0.0, ...</td>\n",
       "      <td>(0.0)</td>\n",
       "      <td>(0.0, 0.0, 0.0, 0.0, 0.0, 0.0, 0.0, 0.0, 0.0, ...</td>\n",
       "      <td>[1.0, 0.0, 231.0]</td>\n",
       "      <td>[0.015384530384943515, 0.0, 0.4107509116589666]</td>\n",
       "      <td>(0.0, 0.0, 0.0, 0.0, 0.0, 0.0, 0.0, 0.0, 1.0, ...</td>\n",
       "      <td>(0.0, 0.0, 0.0, 0.0)</td>\n",
       "      <td>10.534555</td>\n",
       "    </tr>\n",
       "    <tr>\n",
       "      <th>9</th>\n",
       "      <td>2009-01-01</td>\n",
       "      <td>1003</td>\n",
       "      <td>HNL</td>\n",
       "      <td>KOA</td>\n",
       "      <td>34.0</td>\n",
       "      <td>36.0</td>\n",
       "      <td>0.0</td>\n",
       "      <td>163.0</td>\n",
       "      <td>1</td>\n",
       "      <td>Mesa Airline</td>\n",
       "      <td>...</td>\n",
       "      <td>(0.0, 0.0, 0.0, 0.0, 0.0, 0.0, 0.0, 0.0, 0.0, ...</td>\n",
       "      <td>(0.0, 0.0, 0.0, 0.0, 0.0, 0.0, 0.0, 0.0, 0.0, ...</td>\n",
       "      <td>(0.0, 0.0, 0.0, 0.0, 0.0, 0.0, 0.0, 0.0, 0.0, ...</td>\n",
       "      <td>(0.0)</td>\n",
       "      <td>(0.0, 0.0, 0.0, 0.0, 0.0, 0.0, 0.0, 0.0, 0.0, ...</td>\n",
       "      <td>[70.0, 0.0, 163.0]</td>\n",
       "      <td>[1.076917126946046, 0.0, 0.289837223378405]</td>\n",
       "      <td>(0.0, 0.0, 0.0, 0.0, 0.0, 0.0, 0.0, 0.0, 0.0, ...</td>\n",
       "      <td>(0.0, 0.0, 0.0, 0.0)</td>\n",
       "      <td>10.534555</td>\n",
       "    </tr>\n",
       "  </tbody>\n",
       "</table>\n",
       "<p>10 rows × 27 columns</p>\n",
       "</div>"
      ],
      "text/plain": [
       "      FL_DATE OP_CARRIER_FL_NUM ORIGIN DEST  DEP_DELAY  ARR_DELAY  CANCELLED  \\\n",
       "0  2009-01-01                 1    DAL  HOU       -1.0       -7.0        0.0   \n",
       "1  2009-01-01                 1    JFK  FLL      243.0      241.0        0.0   \n",
       "2  2009-01-01                 1    LAX  HNL       -4.0      -23.0        0.0   \n",
       "3  2009-01-01                10    JFK  BUF       -2.0      -29.0        0.0   \n",
       "4  2009-01-01               100    DFW  ATL       -4.0       -8.0        0.0   \n",
       "5  2009-01-01              1001    DFW  PHX       -5.0      -30.0        0.0   \n",
       "6  2009-01-01              1001    PIT  LAS        0.0       -2.0        0.0   \n",
       "7  2009-01-01              1002    EWR  LAX       42.0       29.0        0.0   \n",
       "8  2009-01-01              1003    DTW  IND        5.0       -4.0        0.0   \n",
       "9  2009-01-01              1003    HNL  KOA       34.0       36.0        0.0   \n",
       "\n",
       "   DISTANCE  FL_DATE_month          AIRLINE_NAME  ...  \\\n",
       "0     239.0              1    Southwest Airlines  ...   \n",
       "1    1069.0              1       JetBlue Airways  ...   \n",
       "2    2556.0              1     Hawaiian Airlines  ...   \n",
       "3     301.0              1       JetBlue Airways  ...   \n",
       "4     732.0              1       AirTran Airways  ...   \n",
       "5     868.0              1     American Airlines  ...   \n",
       "6    1910.0              1    Southwest Airlines  ...   \n",
       "7    2454.0              1  Continental Airlines  ...   \n",
       "8     231.0              1    Northwest Airlines  ...   \n",
       "9     163.0              1          Mesa Airline  ...   \n",
       "\n",
       "                                           ORIGINOHE  \\\n",
       "0  (0.0, 0.0, 0.0, 0.0, 0.0, 0.0, 0.0, 0.0, 0.0, ...   \n",
       "1  (0.0, 0.0, 0.0, 0.0, 0.0, 0.0, 0.0, 0.0, 0.0, ...   \n",
       "2  (0.0, 0.0, 0.0, 0.0, 1.0, 0.0, 0.0, 0.0, 0.0, ...   \n",
       "3  (0.0, 0.0, 0.0, 0.0, 0.0, 0.0, 0.0, 0.0, 0.0, ...   \n",
       "4  (0.0, 0.0, 1.0, 0.0, 0.0, 0.0, 0.0, 0.0, 0.0, ...   \n",
       "5  (0.0, 0.0, 1.0, 0.0, 0.0, 0.0, 0.0, 0.0, 0.0, ...   \n",
       "6  (0.0, 0.0, 0.0, 0.0, 0.0, 0.0, 0.0, 0.0, 0.0, ...   \n",
       "7  (0.0, 0.0, 0.0, 0.0, 0.0, 0.0, 0.0, 0.0, 0.0, ...   \n",
       "8  (0.0, 0.0, 0.0, 0.0, 0.0, 0.0, 0.0, 0.0, 1.0, ...   \n",
       "9  (0.0, 0.0, 0.0, 0.0, 0.0, 0.0, 0.0, 0.0, 0.0, ...   \n",
       "\n",
       "                                             DESTOHE  \\\n",
       "0  (0.0, 0.0, 0.0, 0.0, 0.0, 0.0, 0.0, 0.0, 0.0, ...   \n",
       "1  (0.0, 0.0, 0.0, 0.0, 0.0, 0.0, 0.0, 0.0, 0.0, ...   \n",
       "2  (0.0, 0.0, 0.0, 0.0, 0.0, 0.0, 0.0, 0.0, 0.0, ...   \n",
       "3  (0.0, 0.0, 0.0, 0.0, 0.0, 0.0, 0.0, 0.0, 0.0, ...   \n",
       "4  (1.0, 0.0, 0.0, 0.0, 0.0, 0.0, 0.0, 0.0, 0.0, ...   \n",
       "5  (0.0, 0.0, 0.0, 0.0, 0.0, 1.0, 0.0, 0.0, 0.0, ...   \n",
       "6  (0.0, 0.0, 0.0, 0.0, 0.0, 0.0, 0.0, 1.0, 0.0, ...   \n",
       "7  (0.0, 0.0, 0.0, 0.0, 1.0, 0.0, 0.0, 0.0, 0.0, ...   \n",
       "8  (0.0, 0.0, 0.0, 0.0, 0.0, 0.0, 0.0, 0.0, 0.0, ...   \n",
       "9  (0.0, 0.0, 0.0, 0.0, 0.0, 0.0, 0.0, 0.0, 0.0, ...   \n",
       "\n",
       "                                     AIRLINE_NAMEOHE  DELAY_RESULTOHE  \\\n",
       "0  (1.0, 0.0, 0.0, 0.0, 0.0, 0.0, 0.0, 0.0, 0.0, ...            (1.0)   \n",
       "1  (0.0, 0.0, 0.0, 0.0, 0.0, 0.0, 0.0, 0.0, 0.0, ...            (0.0)   \n",
       "2  (0.0, 0.0, 0.0, 0.0, 0.0, 0.0, 0.0, 0.0, 0.0, ...            (1.0)   \n",
       "3  (0.0, 0.0, 0.0, 0.0, 0.0, 0.0, 0.0, 0.0, 0.0, ...            (1.0)   \n",
       "4  (0.0, 0.0, 0.0, 0.0, 0.0, 0.0, 0.0, 0.0, 0.0, ...            (1.0)   \n",
       "5  (0.0, 1.0, 0.0, 0.0, 0.0, 0.0, 0.0, 0.0, 0.0, ...            (1.0)   \n",
       "6  (1.0, 0.0, 0.0, 0.0, 0.0, 0.0, 0.0, 0.0, 0.0, ...            (1.0)   \n",
       "7  (0.0, 0.0, 0.0, 0.0, 0.0, 0.0, 0.0, 0.0, 0.0, ...            (0.0)   \n",
       "8  (0.0, 0.0, 0.0, 0.0, 0.0, 0.0, 0.0, 0.0, 0.0, ...            (0.0)   \n",
       "9  (0.0, 0.0, 0.0, 0.0, 0.0, 0.0, 0.0, 0.0, 0.0, ...            (0.0)   \n",
       "\n",
       "                                OP_CARRIER_FL_NUMOHE          num_features  \\\n",
       "0  (0.0, 0.0, 0.0, 0.0, 0.0, 0.0, 0.0, 0.0, 0.0, ...    [-8.0, 0.0, 239.0]   \n",
       "1  (0.0, 0.0, 0.0, 0.0, 0.0, 0.0, 0.0, 0.0, 0.0, ...  [484.0, 0.0, 1069.0]   \n",
       "2  (0.0, 0.0, 0.0, 0.0, 0.0, 0.0, 0.0, 0.0, 0.0, ...  [-27.0, 0.0, 2556.0]   \n",
       "3  (0.0, 0.0, 0.0, 0.0, 0.0, 0.0, 0.0, 0.0, 0.0, ...   [-31.0, 0.0, 301.0]   \n",
       "4  (0.0, 0.0, 0.0, 0.0, 0.0, 0.0, 0.0, 0.0, 0.0, ...   [-12.0, 0.0, 732.0]   \n",
       "5  (0.0, 0.0, 0.0, 0.0, 0.0, 0.0, 0.0, 0.0, 0.0, ...   [-35.0, 0.0, 868.0]   \n",
       "6  (0.0, 0.0, 0.0, 0.0, 0.0, 0.0, 0.0, 0.0, 0.0, ...   [-2.0, 0.0, 1910.0]   \n",
       "7  (0.0, 0.0, 0.0, 0.0, 0.0, 0.0, 0.0, 0.0, 0.0, ...   [71.0, 0.0, 2454.0]   \n",
       "8  (0.0, 0.0, 0.0, 0.0, 0.0, 0.0, 0.0, 0.0, 0.0, ...     [1.0, 0.0, 231.0]   \n",
       "9  (0.0, 0.0, 0.0, 0.0, 0.0, 0.0, 0.0, 0.0, 0.0, ...    [70.0, 0.0, 163.0]   \n",
       "\n",
       "                               scaled_num_features  \\\n",
       "0  [-0.12307624307954812, 0.0, 0.4249760514566797]   \n",
       "1      [7.446112706312661, 0.0, 1.900834305469417]   \n",
       "2    [-0.4153823203934749, 0.0, 4.544932165369345]   \n",
       "3  [-0.47692044193324895, 0.0, 0.5352208848889565]   \n",
       "4  [-0.18461436461932218, 0.0, 1.3016002914907514]   \n",
       "5    [-0.538458563473023, 0.0, 1.5434276680518746]   \n",
       "6  [-0.03076906076988703, 0.0, 3.3962521267040096]   \n",
       "7     [1.0923016573309896, 0.0, 4.363561632948502]   \n",
       "8  [0.015384530384943515, 0.0, 0.4107509116589666]   \n",
       "9      [1.076917126946046, 0.0, 0.289837223378405]   \n",
       "\n",
       "                                     features_vector     selected_features  \\\n",
       "0  (0.0, 0.0, 0.0, 0.0, 0.0, 0.0, 0.0, 0.0, 0.0, ...  (0.0, 0.0, 0.0, 0.0)   \n",
       "1  (0.0, 0.0, 0.0, 0.0, 0.0, 0.0, 0.0, 0.0, 0.0, ...  (0.0, 0.0, 0.0, 0.0)   \n",
       "2  (0.0, 0.0, 0.0, 0.0, 1.0, 0.0, 0.0, 0.0, 0.0, ...  (0.0, 0.0, 0.0, 0.0)   \n",
       "3  (0.0, 0.0, 0.0, 0.0, 0.0, 0.0, 0.0, 0.0, 0.0, ...  (0.0, 0.0, 0.0, 0.0)   \n",
       "4  (0.0, 0.0, 1.0, 0.0, 0.0, 0.0, 0.0, 0.0, 0.0, ...  (0.0, 0.0, 1.0, 0.0)   \n",
       "5  (0.0, 0.0, 1.0, 0.0, 0.0, 0.0, 0.0, 0.0, 0.0, ...  (0.0, 0.0, 1.0, 0.0)   \n",
       "6  (0.0, 0.0, 0.0, 0.0, 0.0, 0.0, 0.0, 0.0, 0.0, ...  (0.0, 0.0, 0.0, 0.0)   \n",
       "7  (0.0, 0.0, 0.0, 0.0, 0.0, 0.0, 0.0, 0.0, 0.0, ...  (0.0, 0.0, 0.0, 0.0)   \n",
       "8  (0.0, 0.0, 0.0, 0.0, 0.0, 0.0, 0.0, 0.0, 1.0, ...  (0.0, 0.0, 0.0, 0.0)   \n",
       "9  (0.0, 0.0, 0.0, 0.0, 0.0, 0.0, 0.0, 0.0, 0.0, ...  (0.0, 0.0, 0.0, 0.0)   \n",
       "\n",
       "  prediction  \n",
       "0  10.534555  \n",
       "1  10.534555  \n",
       "2  10.534555  \n",
       "3  10.534555  \n",
       "4  19.434174  \n",
       "5  19.434174  \n",
       "6  10.534555  \n",
       "7  10.534555  \n",
       "8  10.534555  \n",
       "9  10.534555  \n",
       "\n",
       "[10 rows x 27 columns]"
      ]
     },
     "execution_count": 54,
     "metadata": {},
     "output_type": "execute_result"
    }
   ],
   "source": [
    "preds.limit(10).toPandas()"
   ]
  },
  {
   "cell_type": "code",
   "execution_count": 55,
   "id": "57255408-72e8-4892-acbd-c1b0ef2c1597",
   "metadata": {},
   "outputs": [
    {
     "name": "stdout",
     "output_type": "stream",
     "text": [
      "RMSE do conjunto de teste é:  65.06882227570796\n"
     ]
    }
   ],
   "source": [
    "rmse = RegressionEvaluator(labelCol=\"DELAY_CALCULATE\", metricName=\"rmse\").evaluate(preds)\n",
    "print(\"RMSE do conjunto de teste é: \", rmse)"
   ]
  },
  {
   "cell_type": "code",
   "execution_count": 56,
   "id": "1c56b4b8-8bb2-4fc0-936a-4d06c6562273",
   "metadata": {},
   "outputs": [],
   "source": [
    "from pyspark.ml.evaluation import RegressionEvaluator\n",
    "from pyspark.ml.stat import Summarizer"
   ]
  },
  {
   "cell_type": "code",
   "execution_count": 57,
   "id": "8d09aed8-b362-4d0d-8b10-e4270f2556b0",
   "metadata": {},
   "outputs": [
    {
     "name": "stdout",
     "output_type": "stream",
     "text": [
      "RMSE:  65.06882227570796\n",
      "MAE:  34.374494822368625\n",
      "R2:  0.0020577487769601888\n"
     ]
    }
   ],
   "source": [
    "# Avaliação do modelo\n",
    "evaluator = RegressionEvaluator(labelCol=\"DELAY_CALCULATE\", metricName=\"rmse\")\n",
    "rmse = evaluator.evaluate(preds)\n",
    "evaluator = RegressionEvaluator(labelCol=\"DELAY_CALCULATE\", metricName=\"mae\")\n",
    "mae = evaluator.evaluate(preds)\n",
    "evaluator = RegressionEvaluator(labelCol=\"DELAY_CALCULATE\", metricName=\"r2\")\n",
    "r2 = evaluator.evaluate(preds)\n",
    "\n",
    "print(\"RMSE: \", rmse)\n",
    "print(\"MAE: \", mae)\n",
    "print(\"R2: \", r2)"
   ]
  },
  {
   "cell_type": "markdown",
   "id": "ae1bf0a3-f907-43e4-acb4-9b15a8227987",
   "metadata": {},
   "source": [
    "> Nossa previsão está variando por volta de 65 pontos em relação ao valor real"
   ]
  },
  {
   "cell_type": "code",
   "execution_count": null,
   "id": "47c9559e-10a9-45d8-bd11-724388800f47",
   "metadata": {},
   "outputs": [],
   "source": []
  },
  {
   "cell_type": "markdown",
   "id": "613477d4-7101-493d-a176-fd33f5c31368",
   "metadata": {
    "tags": []
   },
   "source": [
    "### Hyperparameter Tunning"
   ]
  },
  {
   "cell_type": "code",
   "execution_count": 58,
   "id": "ce58c0f0-876b-431b-b188-3022a2c62c39",
   "metadata": {},
   "outputs": [],
   "source": [
    "parameter_grid = ParamGridBuilder() \\\n",
    "                 .addGrid(model.elasticNetParam, [0.2, 0.3]) \\\n",
    "                 .addGrid(model.regParam, [0.02, 0.03]) \\\n",
    "                 .build()\n",
    "\n",
    "cross_val = CrossValidator(estimator = pipe,\n",
    "                           estimatorParamMaps = parameter_grid,\n",
    "                           evaluator= RegressionEvaluator(labelCol=\"DELAY_CALCULATE\"),\n",
    "                           numFolds=5)\n",
    "\n",
    "cv_model = cross_val.fit(toy_df)"
   ]
  },
  {
   "cell_type": "code",
   "execution_count": 59,
   "id": "df1194fb-f1e0-488c-9a1c-60226e91123b",
   "metadata": {},
   "outputs": [],
   "source": [
    "en = [0.2, 0.3]\n",
    "reg = [0.02, 0.03]\n",
    "\n",
    "elastic_net = [e for e in en for r in reg]\n",
    "regularization = [r for e in en for r in reg] \n",
    "\n",
    "rmse_df = pd.DataFrame({\"rmse\": cv_model.avgMetrics, \n",
    "                       \"elastic_net_alpha\": elastic_net,\n",
    "                       \"regularization_term\": regularization})"
   ]
  },
  {
   "cell_type": "code",
   "execution_count": 60,
   "id": "d4536e57-e0cc-4ce6-8324-03d133dc35e6",
   "metadata": {},
   "outputs": [
    {
     "data": {
      "text/html": [
       "<div>\n",
       "<style scoped>\n",
       "    .dataframe tbody tr th:only-of-type {\n",
       "        vertical-align: middle;\n",
       "    }\n",
       "\n",
       "    .dataframe tbody tr th {\n",
       "        vertical-align: top;\n",
       "    }\n",
       "\n",
       "    .dataframe thead th {\n",
       "        text-align: right;\n",
       "    }\n",
       "</style>\n",
       "<table border=\"1\" class=\"dataframe\">\n",
       "  <thead>\n",
       "    <tr style=\"text-align: right;\">\n",
       "      <th></th>\n",
       "      <th>rmse</th>\n",
       "      <th>elastic_net_alpha</th>\n",
       "      <th>regularization_term</th>\n",
       "    </tr>\n",
       "  </thead>\n",
       "  <tbody>\n",
       "    <tr>\n",
       "      <th>0</th>\n",
       "      <td>63.982096</td>\n",
       "      <td>0.2</td>\n",
       "      <td>0.02</td>\n",
       "    </tr>\n",
       "    <tr>\n",
       "      <th>1</th>\n",
       "      <td>63.982117</td>\n",
       "      <td>0.2</td>\n",
       "      <td>0.03</td>\n",
       "    </tr>\n",
       "    <tr>\n",
       "      <th>2</th>\n",
       "      <td>63.982120</td>\n",
       "      <td>0.3</td>\n",
       "      <td>0.02</td>\n",
       "    </tr>\n",
       "    <tr>\n",
       "      <th>3</th>\n",
       "      <td>63.982154</td>\n",
       "      <td>0.3</td>\n",
       "      <td>0.03</td>\n",
       "    </tr>\n",
       "  </tbody>\n",
       "</table>\n",
       "</div>"
      ],
      "text/plain": [
       "        rmse  elastic_net_alpha  regularization_term\n",
       "0  63.982096                0.2                 0.02\n",
       "1  63.982117                0.2                 0.03\n",
       "2  63.982120                0.3                 0.02\n",
       "3  63.982154                0.3                 0.03"
      ]
     },
     "execution_count": 60,
     "metadata": {},
     "output_type": "execute_result"
    }
   ],
   "source": [
    "rmse_df.sort_values(by=\"rmse\")"
   ]
  },
  {
   "cell_type": "markdown",
   "id": "dbfbfa78-7873-43c0-b71a-eed2cf6f4337",
   "metadata": {},
   "source": [
    "<br>"
   ]
  },
  {
   "cell_type": "markdown",
   "id": "ad0b281f-7c94-462f-86ed-2116cfc3a109",
   "metadata": {
    "tags": []
   },
   "source": [
    "## RDD para leitura de todos os anos"
   ]
  },
  {
   "cell_type": "code",
   "execution_count": null,
   "id": "e5ea67eb-342a-4c12-9c51-6bb29eb5d0bf",
   "metadata": {},
   "outputs": [],
   "source": [
    "# !unzip flights_usa.zip -d flights_usa"
   ]
  },
  {
   "cell_type": "code",
   "execution_count": null,
   "id": "a10df186-f73e-4ccb-893f-739691eb09c5",
   "metadata": {},
   "outputs": [],
   "source": [
    "# sc = spark.sparkContext"
   ]
  },
  {
   "cell_type": "code",
   "execution_count": 63,
   "id": "6ac0dfdc-c17e-4273-bea5-ed515152b585",
   "metadata": {},
   "outputs": [],
   "source": [
    "path = \"flights_usa/\""
   ]
  },
  {
   "cell_type": "code",
   "execution_count": 64,
   "id": "7c559358-df61-47fa-bdf4-5bd2f832e309",
   "metadata": {},
   "outputs": [],
   "source": [
    "dfRDD = sc.textFile(path)"
   ]
  },
  {
   "cell_type": "code",
   "execution_count": 65,
   "id": "f97f45f7-c7ab-4f8c-a335-ef8ae6922410",
   "metadata": {},
   "outputs": [
    {
     "data": {
      "text/plain": [
       "['FL_DATE,OP_CARRIER,OP_CARRIER_FL_NUM,ORIGIN,DEST,CRS_DEP_TIME,DEP_TIME,DEP_DELAY,TAXI_OUT,WHEELS_OFF,WHEELS_ON,TAXI_IN,CRS_ARR_TIME,ARR_TIME,ARR_DELAY,CANCELLED,CANCELLATION_CODE,DIVERTED,CRS_ELAPSED_TIME,ACTUAL_ELAPSED_TIME,AIR_TIME,DISTANCE,CARRIER_DELAY,WEATHER_DELAY,NAS_DELAY,SECURITY_DELAY,LATE_AIRCRAFT_DELAY,Unnamed: 27',\n",
       " '2015-01-01,NK,195,MCO,FLL,2147,2143.0,-4.0,15.0,2158.0,2238.0,7.0,2250,2245.0,-5.0,0.0,,0.0,63.0,62.0,40.0,177.0,,,,,,',\n",
       " '2015-01-01,NK,197,LGA,FLL,1050,1104.0,14.0,20.0,1124.0,1354.0,9.0,1404,1403.0,-1.0,0.0,,0.0,194.0,179.0,150.0,1076.0,,,,,,',\n",
       " '2015-01-01,NK,198,FLL,MCO,700,712.0,12.0,19.0,731.0,803.0,10.0,757,813.0,16.0,0.0,,0.0,57.0,61.0,32.0,177.0,0.0,0.0,16.0,0.0,0.0,',\n",
       " '2015-01-01,NK,199,IAH,LAS,2240,2251.0,11.0,8.0,2259.0,2343.0,4.0,2356,2347.0,-9.0,0.0,,0.0,196.0,176.0,164.0,1222.0,,,,,,',\n",
       " '2015-01-01,NK,200,IAH,ORD,623,620.0,-3.0,15.0,635.0,830.0,10.0,855,840.0,-15.0,0.0,,0.0,152.0,140.0,115.0,925.0,,,,,,',\n",
       " '2015-01-01,NK,201,FLL,STT,1253,1258.0,5.0,24.0,1322.0,1634.0,10.0,1630,1644.0,14.0,0.0,,0.0,157.0,166.0,132.0,1107.0,,,,,,',\n",
       " '2015-01-01,NK,202,DFW,BWI,1342,1337.0,-5.0,11.0,1348.0,1700.0,5.0,1724,1705.0,-19.0,0.0,,0.0,162.0,148.0,132.0,1217.0,,,,,,',\n",
       " '2015-01-01,NK,203,BOS,PBI,1555,1554.0,-1.0,17.0,1611.0,1903.0,5.0,1913,1908.0,-5.0,0.0,,0.0,198.0,194.0,172.0,1197.0,,,,,,',\n",
       " '2015-01-01,NK,204,PBI,BOS,1205,1204.0,-1.0,11.0,1215.0,1455.0,9.0,1505,1504.0,-1.0,0.0,,0.0,180.0,180.0,160.0,1197.0,,,,,,']"
      ]
     },
     "execution_count": 65,
     "metadata": {},
     "output_type": "execute_result"
    }
   ],
   "source": [
    "dfRDD.take(10) #10 primeiras linhas com take"
   ]
  },
  {
   "cell_type": "code",
   "execution_count": 67,
   "id": "8836539e-0153-4397-9f65-e7fabaf3bb3e",
   "metadata": {},
   "outputs": [
    {
     "data": {
      "text/plain": [
       "61556974"
      ]
     },
     "execution_count": 67,
     "metadata": {},
     "output_type": "execute_result"
    }
   ],
   "source": [
    "dfRDD.count() #contagem de linhas"
   ]
  },
  {
   "cell_type": "markdown",
   "id": "f70be91c-4440-40d2-aec7-49bf0b2bec21",
   "metadata": {},
   "source": [
    "> De 2009 a 2018, temos mais de 61.5M de voos no dataframe sendo analisados"
   ]
  },
  {
   "cell_type": "code",
   "execution_count": 68,
   "id": "abd9d1ea-2cfd-42f2-8ee8-1e64c4d3b682",
   "metadata": {},
   "outputs": [
    {
     "data": {
      "text/plain": [
       "232"
      ]
     },
     "execution_count": 68,
     "metadata": {},
     "output_type": "execute_result"
    }
   ],
   "source": [
    "dfRDD.getNumPartitions() #dados foram divididos em quantas partições?"
   ]
  },
  {
   "cell_type": "code",
   "execution_count": null,
   "id": "02dac82b-8759-4c1f-be85-9c785f875f7d",
   "metadata": {},
   "outputs": [],
   "source": []
  },
  {
   "cell_type": "markdown",
   "id": "a9990acb-f0b3-4858-8739-4ef6d20c0c10",
   "metadata": {},
   "source": [
    "## Replicando `df,2009` modelado para o novo utilizando `RDD`"
   ]
  },
  {
   "cell_type": "markdown",
   "id": "e17b3f82-4d53-4114-9364-b791cf45f82c",
   "metadata": {},
   "source": [
    "> Vai ficar para uma próxima vez..."
   ]
  }
 ],
 "metadata": {
  "kernelspec": {
   "display_name": "Python 3 (ipykernel)",
   "language": "python",
   "name": "python3"
  },
  "language_info": {
   "codemirror_mode": {
    "name": "ipython",
    "version": 3
   },
   "file_extension": ".py",
   "mimetype": "text/x-python",
   "name": "python",
   "nbconvert_exporter": "python",
   "pygments_lexer": "ipython3",
   "version": "3.10.8"
  },
  "toc-autonumbering": false,
  "toc-showcode": true,
  "toc-showmarkdowntxt": false,
  "toc-showtags": false
 },
 "nbformat": 4,
 "nbformat_minor": 5
}
